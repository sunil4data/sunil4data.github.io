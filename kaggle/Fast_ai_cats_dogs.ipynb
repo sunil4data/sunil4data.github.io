{
 "cells": [
  {
   "cell_type": "markdown",
   "metadata": {
    "_uuid": "3d6171ac9cc0b2f51656418c1e0511538cab06ba"
   },
   "source": [
    "## Fast.ai Learning through Cats & Dogs Image Classification\n",
    "\n",
    "#### Sunil Kumar"
   ]
  },
  {
   "cell_type": "markdown",
   "metadata": {},
   "source": [
    "[v3 notebook from https://www.kaggle.com/suniliitb96/fast-ai-learning-through-cats-dogs]"
   ]
  },
  {
   "cell_type": "markdown",
   "metadata": {
    "_uuid": "3492bd30529193bcf8cab076fa97f3057f31471f"
   },
   "source": [
    "This kernel can be used to submit to Cats & Dogs Kaggle competition. One can try 1st option for training just the last layer, i,e., Dense FC layer while re-using pretrained ResNet* layers. Other option is to try SGDR. Then another approach given below is to try SGDR with Differential Learning Rate. Observe the validation loss, validation accuracy and Kaggle score. NOTE that try this with GPU ON and Internet CONNECTED in your Kaggle kernel. One can try fast.ai Images Augmentation while preparing the ConvNet model before model learning and it is one of the ways of better generalizing our deep learning - refer to https://becominghuman.ai/data-augmentation-using-fastai-aefa88ca03f1 .\n",
    "\n",
    "Even before moving to lectures beyond Lesson #1, I got curious to explore learning performance with various options given in fast.ai Lesson #1 notebook and explored if all fast.ai tricks can be implemented in Keras & TensorFlow. Refer to tutorial on [Tutorial Keras: Transfer Learning with ResNet50 for image classification on Cats & Dogs dataset](https://www.kaggle.com/suniliitb96/tutorial-keras-transfer-learning-with-resnet50).\n",
    "\n",
    "Notes about special observations noticed while practicing with fast.ai on Cats & Dogs dataset from an old Kaggle competition with reference to fast.ai Lesson#1: - \n",
    "* Refer to http://ruder.io/deep-learning-optimization-2017/ for a comprehensive practical background in Deep Learning Optimizations with respect to Optimizers, Learning Rate schedule, etc.\n",
    "* Refer to SGDR in https://abdel.me/2018/01/05/fastai-part1/ for a better understanding as what fast.ai is doing under the hood.\n",
    "* SGDR\n",
    "    * Refer to the below plot of learning schedule for cycle_len=1 (notice iteration count as ~313, i.e., 10k/32)\n",
    "    * It is based on the concept of Cyclical Learning, a.k.a., Learning Rate Annealing with Warm Restart. SGD with Learning Rate Annealing schedule is a common practice to compete with adaptive Adam optimizer.\n",
    "    * Learning Rate decays as per half cosine with each Epoch Step (ref model.py >> step fn) and it restarts with specified Learning Rate value\n",
    "*  Differential Learning Rate for Fine Tuning PreTrained ResNet*    \n",
    "    * It is not enough to just train and re-train the Dense FC last layer while keeping ResNet layers frozen.\n",
    "    * We idenity best Learning Rate for Dense FC last layer and apply sclaed down Learning Rate for ResNet* grouped layers (Fast.ai seem to have treated ResNet* in 2 grouped layers & I'm yet to figure out as how this grouping has been done).\n",
    "    * SGDR + DLR + cyclt_mult affects in stretching Learning Rate Annealing to span across epochs. Refer to below plot for DLR.    \n",
    "    "
   ]
  },
  {
   "cell_type": "code",
   "execution_count": null,
   "metadata": {
    "_uuid": "83b494829684010098f0e4e4c2549c443a33ce63"
   },
   "outputs": [],
   "source": [
    "import numpy as np\n",
    "import pandas as pd\n",
    "\n",
    "import matplotlib.pyplot as plt\n",
    "%matplotlib inline \n",
    "\n",
    "import cv2\n",
    "\n",
    "import os"
   ]
  },
  {
   "cell_type": "code",
   "execution_count": null,
   "metadata": {
    "_uuid": "f3c207ad48bceca8512c1c442635e23cc1df4583"
   },
   "outputs": [],
   "source": [
    "os.listdir(\"../input\")"
   ]
  },
  {
   "cell_type": "code",
   "execution_count": null,
   "metadata": {
    "_cell_guid": "79c7e3d0-c299-4dcb-8224-4455121ee9b0",
    "_uuid": "d629ff2d2480ee46fbb7e2d37f6b5fab8052498a"
   },
   "outputs": [],
   "source": [
    "from fastai.imports import *\n",
    "from fastai.transforms import *\n",
    "from fastai.conv_learner import *\n",
    "from fastai.model import *\n",
    "from fastai.dataset import *\n",
    "from fastai.sgdr import *\n",
    "from fastai.plots import *"
   ]
  },
  {
   "cell_type": "code",
   "execution_count": null,
   "metadata": {
    "_uuid": "807cb0ff8db5410a4afd08ed1dfd1f5a8c3864ba"
   },
   "outputs": [],
   "source": [
    "PATH = \"../input/\"\n",
    "TMP_PATH = \"/tmp/tmp\"\n",
    "MODEL_PATH = \"/tmp/model/\"\n",
    "sz=224"
   ]
  },
  {
   "cell_type": "code",
   "execution_count": null,
   "metadata": {
    "_uuid": "dc43520d579c50f3158faf5181cb24d3ea91a1cc"
   },
   "outputs": [],
   "source": [
    "fnames = np.array([f'train/{f}' for f in sorted(os.listdir(f'{PATH}train'))])\n",
    "labels = np.array([(0 if 'cat' in fname else 1) for fname in fnames])"
   ]
  },
  {
   "cell_type": "code",
   "execution_count": null,
   "metadata": {
    "_uuid": "360888b7acb357f9c530da7242a53a5c828cbf2f"
   },
   "outputs": [],
   "source": [
    "arch=resnet50\n",
    "data = ImageClassifierData.from_names_and_array(\n",
    "    path=PATH, \n",
    "    fnames=fnames, \n",
    "    y=labels, \n",
    "    classes=['dogs', 'cats'], \n",
    "    test_name='test', \n",
    "    tfms=tfms_from_model(arch, sz)\n",
    ")\n",
    "learn = ConvLearner.pretrained(arch, data, precompute=True, tmp_name=TMP_PATH, models_name=MODEL_PATH)"
   ]
  },
  {
   "cell_type": "code",
   "execution_count": null,
   "metadata": {
    "_uuid": "6c789ac75db552f9b7b95b0b69e79f1db23c2e6d"
   },
   "outputs": [],
   "source": [
    "###\n",
    "### Search for suitable, i.e., best Learning Rate for our-newly-added-Last Layer (as we have used 'precompute=True', i.e., ResNet50-minus-its-last-layer weights are being re-used as is)\n",
    "###\n",
    "#lrf=learn.lr_find()\n",
    "#learn.sched.plot_lr()\n",
    "#learn.sched.plot()\n",
    "\n",
    "###\n",
    "### Use the identified best Learning Rate for our-newly-added-Last Layer\n",
    "### Note that even without running above 3 lines of Learning Rate Finder, it is well known that best learning rate is 0.01 for Cats & Dogs images with 224x224 size\n",
    "### Kaggle Score obtained is 0.38683 (v7)\n",
    "###\n",
    "#learn.fit(0.01, 2)"
   ]
  },
  {
   "cell_type": "code",
   "execution_count": null,
   "metadata": {
    "_uuid": "9d2adfa8e89886003a1bbc9290a58068453f5af4"
   },
   "outputs": [],
   "source": [
    "###\n",
    "### SGDR (SGD with warm Resrart): fast.ai uses half Cosine shape decay (start with 0.01 & decay till 0) of LR during each epoch and then it restarts with 1e-02\n",
    "### Kaggle score obtained is 0.37578 (v8)\n",
    "###\n",
    "learn.fit(1e-2, 10, cycle_len=1)\n",
    "learn.sched.plot_lr()"
   ]
  },
  {
   "cell_type": "code",
   "execution_count": null,
   "metadata": {
    "_uuid": "a1b6d4fdf924bef43327cd6c67352c5ec68d6f17"
   },
   "outputs": [],
   "source": [
    "###\n",
    "### Continue from Last Layer learned model with PreCompute=TRUE\n",
    "### Unfreeze all layers (all weights learned so far are retained) => it sets PreCompute=FALSE making all layers learnable\n",
    "### Effectively, the network weights are intialized as (ResNet-minus-last-layer with its original pre-trained weight & Last Layer as per above model learning while keeping ResNet as frozen)\n",
    "### Now, all layers are FURTHER learnable\n",
    "### Kaggle score obtained is 0.34815 (v9)\n",
    "###\n",
    "learn.unfreeze()\n",
    "\n",
    "# Differential LR (above identified best LR for last layer, x0.1 to middle layer, x0.01 to inner layer)\n",
    "lr=np.array([1e-4,1e-3,1e-2])\n",
    "\n",
    "learn.fit(lr, 3, cycle_len=1, cycle_mult=2)\n",
    "\n",
    "learn.sched.plot_lr()"
   ]
  },
  {
   "cell_type": "code",
   "execution_count": null,
   "metadata": {
    "_uuid": "67b5c712b0bf0bbfc32d380a8b4126056d08ca56"
   },
   "outputs": [],
   "source": [
    "temp = learn.predict(is_test=True)\n",
    "pred = np.argmax(temp, axis=1)"
   ]
  },
  {
   "cell_type": "code",
   "execution_count": null,
   "metadata": {
    "_uuid": "26d521f382455e51ec30ee2ce6e0087dab1d6050"
   },
   "outputs": [],
   "source": [
    "import cv2\n",
    "\n",
    "# learn.predict works on unsorted os.listdir, hence listing filenames without sorting\n",
    "fnames_test = np.array([f'test/{f}' for f in os.listdir(f'{PATH}test')])\n",
    "\n",
    "f, ax = plt.subplots(5, 5, figsize = (15, 15))\n",
    "\n",
    "for i in range(0,25):\n",
    "    imgBGR = cv2.imread(f'{PATH}{fnames_test[i]}')\n",
    "    imgRGB = cv2.cvtColor(imgBGR, cv2.COLOR_BGR2RGB)\n",
    "    \n",
    "    # a if condition else b\n",
    "    predicted_class = \"Dog\" if pred[i] else \"Cat\"\n",
    "\n",
    "    ax[i//5, i%5].imshow(imgRGB)\n",
    "    ax[i//5, i%5].axis('off')\n",
    "    ax[i//5, i%5].set_title(\"Predicted:{}\".format(predicted_class))    \n",
    "\n",
    "plt.show()"
   ]
  },
  {
   "cell_type": "code",
   "execution_count": null,
   "metadata": {
    "_uuid": "1d0390a1c932ee9f7303007b94523d49c75b36cd"
   },
   "outputs": [],
   "source": [
    "results_df = pd.DataFrame(\n",
    "    {\n",
    "        'id': pd.Series(fnames_test), \n",
    "        'label': pd.Series(pred)\n",
    "    })\n",
    "results_df['id'] = results_df.id.str.extract('(\\d+)')\n",
    "results_df['id'] = pd.to_numeric(results_df['id'], errors = 'coerce')\n",
    "results_df.sort_values(by='id', inplace = True)\n",
    "\n",
    "results_df.to_csv('submission.csv', index=False)\n",
    "results_df.head()"
   ]
  },
  {
   "cell_type": "markdown",
   "metadata": {
    "_uuid": "f30fef9e396d330f151d856e4010e366b94cc049"
   },
   "source": [
    "### References\n",
    "\n",
    "1. [Kaggle kernel about implementing Cats & Dogs images classification in Keras](https://www.kaggle.com/suniliitb96/tutorial-keras-transfer-learning-with-resnet50)"
   ]
  }
 ],
 "metadata": {
  "kernelspec": {
   "display_name": "Python 3",
   "language": "python",
   "name": "python3"
  },
  "language_info": {
   "codemirror_mode": {
    "name": "ipython",
    "version": 3
   },
   "file_extension": ".py",
   "mimetype": "text/x-python",
   "name": "python",
   "nbconvert_exporter": "python",
   "pygments_lexer": "ipython3",
   "version": "3.6.5"
  }
 },
 "nbformat": 4,
 "nbformat_minor": 1
}
