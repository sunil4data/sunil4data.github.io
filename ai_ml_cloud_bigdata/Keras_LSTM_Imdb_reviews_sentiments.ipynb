{
 "cells": [
  {
   "cell_type": "markdown",
   "metadata": {},
   "source": [
    "### IMDB Movie Reviews Sentiment Classification\n",
    "\n",
    "#### Solution workflow: -\n",
    "\n",
    "* Extract train & test sentences containing 'max_features' most frequent tokens from Keras in-built IMDB dataset (tokens are Positional Index into its vocabulary)... all infrequent tokens are represented by some constant.\n",
    "\n",
    "* Trim/pad sentences to 'sent_max_len' words (same as LSTM input's timesteps param and also the LSTM 'units') https://stackoverflow.com/questions/44273249/in-keras-what-exactly-am-i-configuring-when-i-create-a-stateful-lstm-layer-wi\n",
    "\n",
    "* Define Supervised ML network\n",
    "    * Embedding represents each token as 'word_vec_len' x 1 Word Vector... Not sure what pre-trained embedding does Keras+IMDB deriving??\n",
    "    * LSTM many-to-one takes in batch of sentence, i.e., batch_size x sent_max_len x word_vec_len\n",
    "    * Binary Sigmoid layer for binary classification\n",
    "\n",
    "* Fit model with train & validate (same as test) labeled sentences\n",
    "\n",
    "* Evaluate accuracy with test sentences\n",
    "\n",
    "\n",
    "#### Compare accuracy for different run options\n",
    "\n",
    "* LSTM, 10 epochs: Validation accuracy actually fluctuates b/w 0.83 & 0.85\n",
    "* Bi-di LSTM, 10 epochs: Almost same accuracy range as with just LSTM\n",
    "\n",
    "\n",
    "#### Extending this base solution further: - \n",
    "\n",
    "* Split train into train & valid for better generalized model learning\n",
    "\n",
    "* Multi label classification\n",
    "\n",
    "* Use either of the RNN, LSTM or GRU\n",
    "\n",
    "* Use explicit Embeddings matrix - either existing pre-trained embeddings (Word2Vec, GloVe, etc) or train your own Embeddings with given text corpus using Gensim\n",
    "\n",
    "* Use forward directional LSTM or bi-directional LSTM. Bi-directional is better, e.g., meaning of Teddy in “He said, Teddy bears are on sale” -vs- “He said, Teddy Roosevelt was a great President”\n",
    "\n",
    "* Use STATEFUL LSTM for seq-2-seq use cases (speech synthesis, machine translation, Q&A) - http://philipperemy.github.io/keras-stateful-lstm/ \n",
    "\n",
    "\n",
    "#### Reference: -\n",
    "This solution is adapted from reference example https://github.com/keras-team/keras/blob/master/examples/imdb_lstm.py \n"
   ]
  },
  {
   "cell_type": "code",
   "execution_count": 1,
   "metadata": {},
   "outputs": [
    {
     "name": "stderr",
     "output_type": "stream",
     "text": [
      "C:\\ProgramData\\Anaconda3\\lib\\site-packages\\h5py\\__init__.py:36: FutureWarning: Conversion of the second argument of issubdtype from `float` to `np.floating` is deprecated. In future, it will be treated as `np.float64 == np.dtype(float).type`.\n",
      "  from ._conv import register_converters as _register_converters\n",
      "Using TensorFlow backend.\n"
     ]
    }
   ],
   "source": [
    "from __future__ import print_function\n",
    "\n",
    "import numpy as np\n",
    "import matplotlib.pyplot as plt\n",
    "\n",
    "from keras.preprocessing import sequence\n",
    "from keras.models import Sequential\n",
    "from keras.layers import Dense, Embedding, Dropout\n",
    "from keras.layers import LSTM, Bidirectional\n",
    "\n",
    "from keras.datasets import imdb"
   ]
  },
  {
   "cell_type": "code",
   "execution_count": 2,
   "metadata": {},
   "outputs": [],
   "source": [
    "# Most frequent tokens, i.e., vocab size\n",
    "max_features = 5000\n",
    "\n",
    "# Words / tokens count in Sentence which is also the LSTM input's timesteps param\n",
    "sent_max_len = 100\n",
    "\n",
    "# Batches of setences to feed into neural net\n",
    "batch_size = 32\n",
    "\n",
    "# Word vector length, i.e., dimension of the dense embedding\n",
    "word_vec_len = 64\n",
    "\n",
    "# LSTM output size assuming we are using many as output which will be ultimately connected to dense layer to match up the label classes\n",
    "lstm_out_size = 64\n",
    "\n",
    "# NN training epochs\n",
    "n_epochs = 1"
   ]
  },
  {
   "cell_type": "code",
   "execution_count": 3,
   "metadata": {},
   "outputs": [
    {
     "name": "stdout",
     "output_type": "stream",
     "text": [
      "Loading data...\n",
      "25000 train sequences\n",
      "25000 test sequences\n"
     ]
    }
   ],
   "source": [
    "print('Loading data...')\n",
    "\n",
    "(x_train, y_train), (x_test, y_test) = imdb.load_data(num_words=max_features)\n",
    "print(len(x_train), 'train sequences')\n",
    "print(len(x_test), 'test sequences')"
   ]
  },
  {
   "cell_type": "code",
   "execution_count": 4,
   "metadata": {},
   "outputs": [
    {
     "name": "stdout",
     "output_type": "stream",
     "text": [
      "11 2494\n"
     ]
    }
   ],
   "source": [
    "mylen = np.vectorize(len)\n",
    "print(mylen(x_train).min(), mylen(x_train).max())"
   ]
  },
  {
   "cell_type": "code",
   "execution_count": 5,
   "metadata": {},
   "outputs": [
    {
     "data": {
      "image/png": "[encoded data removed]",
      "text/plain": [
       "<Figure size 432x288 with 1 Axes>"
      ]
     },
     "metadata": {},
     "output_type": "display_data"
    }
   ],
   "source": [
    "plt.hist(mylen(x_train), 200)\n",
    "plt.show()"
   ]
  },
  {
   "cell_type": "code",
   "execution_count": 6,
   "metadata": {},
   "outputs": [
    {
     "name": "stdout",
     "output_type": "stream",
     "text": [
      "Pad sequences (samples x time)\n",
      "x_train shape: (25000, 100)\n",
      "x_test shape: (25000, 100)\n"
     ]
    }
   ],
   "source": [
    "# Trim long sentences or pad short ones\n",
    "# What is the implication of trimming lonnng setences to max_len\n",
    "\n",
    "print('Pad sequences (samples x time)')\n",
    "x_train = sequence.pad_sequences(x_train, maxlen=sent_max_len)\n",
    "x_test = sequence.pad_sequences(x_test, maxlen=sent_max_len)\n",
    "print('x_train shape:', x_train.shape)\n",
    "print('x_test shape:', x_test.shape)"
   ]
  },
  {
   "cell_type": "code",
   "execution_count": 7,
   "metadata": {},
   "outputs": [
    {
     "data": {
      "text/plain": [
       "array([1415,   33,    6,   22,   12,  215,   28,   77,   52,    5,   14,\n",
       "        407,   16,   82,    2,    8,    4,  107,  117,    2,   15,  256,\n",
       "          4,    2,    7, 3766,    5,  723,   36,   71,   43,  530,  476,\n",
       "         26,  400,  317,   46,    7,    4,    2, 1029,   13,  104,   88,\n",
       "          4,  381,   15,  297,   98,   32, 2071,   56,   26,  141,    6,\n",
       "        194,    2,   18,    4,  226,   22,   21,  134,  476,   26,  480,\n",
       "          5,  144,   30,    2,   18,   51,   36,   28,  224,   92,   25,\n",
       "        104,    4,  226,   65,   16,   38, 1334,   88,   12,   16,  283,\n",
       "          5,   16, 4472,  113,  103,   32,   15,   16,    2,   19,  178,\n",
       "         32])"
      ]
     },
     "execution_count": 7,
     "metadata": {},
     "output_type": "execute_result"
    }
   ],
   "source": [
    "x_train[0]"
   ]
  },
  {
   "cell_type": "code",
   "execution_count": 8,
   "metadata": {},
   "outputs": [
    {
     "name": "stdout",
     "output_type": "stream",
     "text": [
      "Build LSTM based network...\n",
      "_________________________________________________________________\n",
      "Layer (type)                 Output Shape              Param #   \n",
      "=================================================================\n",
      "embedding_1 (Embedding)      (None, None, 64)          320000    \n",
      "_________________________________________________________________\n",
      "lstm_1 (LSTM)                (None, 64)                33024     \n",
      "_________________________________________________________________\n",
      "dense_1 (Dense)              (None, 1)                 65        \n",
      "=================================================================\n",
      "Total params: 353,089\n",
      "Trainable params: 353,089\n",
      "Non-trainable params: 0\n",
      "_________________________________________________________________\n",
      "None\n"
     ]
    }
   ],
   "source": [
    "#'''\n",
    "print('Build LSTM based network...')\n",
    "\n",
    "model = Sequential()\n",
    "model.add(Embedding(input_dim=max_features, output_dim=word_vec_len))\n",
    "model.add(LSTM(units=lstm_out_size, input_shape=(sent_max_len, word_vec_len), dropout=0.2, recurrent_dropout=0.2))\n",
    "model.add(Dense(1, activation='sigmoid'))\n",
    "\n",
    "print(model.summary())\n",
    "#'''"
   ]
  },
  {
   "cell_type": "code",
   "execution_count": 9,
   "metadata": {},
   "outputs": [
    {
     "data": {
      "text/plain": [
       "\"\\nprint('Build bi-directional LSTM based network model...')\\n\\nmodel = Sequential()\\n\\n# input_length=sent_max_len\\nmodel.add(Embedding(input_dim=max_features, output_dim=word_vec_len))\\nmodel.add(Bidirectional(LSTM(units=lstm_out_size)))\\nmodel.add(Dropout(0.5))\\nmodel.add(Dense(1, activation='sigmoid'))\\n\\nprint(model.summary())\\n\""
      ]
     },
     "execution_count": 9,
     "metadata": {},
     "output_type": "execute_result"
    }
   ],
   "source": [
    "'''\n",
    "print('Build bi-directional LSTM based network model...')\n",
    "\n",
    "model = Sequential()\n",
    "\n",
    "# input_length=sent_max_len\n",
    "model.add(Embedding(input_dim=max_features, output_dim=word_vec_len))\n",
    "model.add(Bidirectional(LSTM(units=lstm_out_size)))\n",
    "model.add(Dropout(0.5))\n",
    "model.add(Dense(1, activation='sigmoid'))\n",
    "\n",
    "print(model.summary())\n",
    "'''"
   ]
  },
  {
   "cell_type": "code",
   "execution_count": 10,
   "metadata": {},
   "outputs": [
    {
     "name": "stdout",
     "output_type": "stream",
     "text": [
      "Train...\n",
      "Train on 25000 samples, validate on 25000 samples\n",
      "Epoch 1/1\n",
      "25000/25000 [==============================] - 106s 4ms/step - loss: 0.4714 - acc: 0.7738 - val_loss: 0.4245 - val_acc: 0.8109\n"
     ]
    },
    {
     "data": {
      "text/plain": [
       "<keras.callbacks.History at 0x225b2641390>"
      ]
     },
     "execution_count": 10,
     "metadata": {},
     "output_type": "execute_result"
    }
   ],
   "source": [
    "# try using different optimizers and different optimizer configs\n",
    "model.compile(loss='binary_crossentropy',\n",
    "              optimizer='adam',\n",
    "              metrics=['accuracy'])\n",
    "\n",
    "print('Train...')\n",
    "model.fit(x_train, y_train,\n",
    "          batch_size=batch_size,\n",
    "          epochs=n_epochs,\n",
    "          validation_data=(x_test, y_test))"
   ]
  },
  {
   "cell_type": "code",
   "execution_count": 11,
   "metadata": {},
   "outputs": [
    {
     "name": "stdout",
     "output_type": "stream",
     "text": [
      "25000/25000 [==============================] - 13s 511us/step\n",
      "Test score: 0.42448286710739136\n",
      "Test accuracy: 0.81088\n"
     ]
    }
   ],
   "source": [
    "score, acc = model.evaluate(x_test, y_test,\n",
    "                            batch_size=batch_size)\n",
    "print('Test score:', score)\n",
    "print('Test accuracy:', acc)"
   ]
  }
 ],
 "metadata": {
  "kernelspec": {
   "display_name": "Python 3",
   "language": "python",
   "name": "python3"
  },
  "language_info": {
   "codemirror_mode": {
    "name": "ipython",
    "version": 3
   },
   "file_extension": ".py",
   "mimetype": "text/x-python",
   "name": "python",
   "nbconvert_exporter": "python",
   "pygments_lexer": "ipython3",
   "version": "3.6.5"
  }
 },
 "nbformat": 4,
 "nbformat_minor": 2
}
