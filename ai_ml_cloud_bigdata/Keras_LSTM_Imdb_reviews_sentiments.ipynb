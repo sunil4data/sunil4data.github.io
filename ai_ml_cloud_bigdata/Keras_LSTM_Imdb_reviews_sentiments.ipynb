{
 "cells": [
  {
   "cell_type": "markdown",
   "metadata": {},
   "source": [
    "### IMDB Movie Reviews Sentiment Classification\n",
    "\n",
    "#### Solution workflow: -\n",
    "\n",
    "* Extract train & test sentences containing 'max_features' most frequent tokens from Keras in-built IMDB dataset (tokens are Positional Index into its vocabulary)... all infrequent tokens are represented by some constant.\n",
    "\n",
    "* Trim/pad sentences to 'sent_max_len' words (same as LSTM input's timesteps param and also the LSTM 'units') https://stackoverflow.com/questions/44273249/in-keras-what-exactly-am-i-configuring-when-i-create-a-stateful-lstm-layer-wi\n",
    "\n",
    "* Define Supervised ML network\n",
    "    * Embedding represents each token as 'word_vec_len' x 1 Word Vector... Not sure what pre-trained embedding does Keras+IMDB deriving??\n",
    "    * LSTM many-to-one takes in batch of sentence, i.e., batch_size x sent_max_len x word_vec_len\n",
    "    * Binary Sigmoid layer for binary classification\n",
    "\n",
    "* Fit model with train & validate (same as test) labeled sentences\n",
    "\n",
    "* Evaluate accuracy with test sentences\n",
    "\n",
    "\n",
    "#### Extending this base solution further: - \n",
    "\n",
    "* Multi label classification\n",
    "\n",
    "* Use either of the RNN, LSTM or GRU\n",
    "\n",
    "* Use explicit Embeddings matrix - either existing pre-trained embeddings (Word2Vec, GloVe, etc) or train your own Embeddings with given text corpus using Gensim\n",
    "\n",
    "* Use forward directional LSTM or bi-directional LSTM. Bi-directional is better, e.g., meaning of Teddy in “He said, Teddy bears are on sale” -vs- “He said, Teddy Roosevelt was a great President”\n",
    "\n",
    "* Use STATEFUL LSTM for seq-2-seq use cases (speech synthesis, machine translation, Q&A) - http://philipperemy.github.io/keras-stateful-lstm/ \n",
    "\n",
    "\n",
    "#### Reference: -\n",
    "This solution is adapted from reference example https://github.com/keras-team/keras/blob/master/examples/imdb_lstm.py \n"
   ]
  },
  {
   "cell_type": "code",
   "execution_count": 1,
   "metadata": {},
   "outputs": [
    {
     "name": "stderr",
     "output_type": "stream",
     "text": [
      "C:\\ProgramData\\Anaconda3\\lib\\site-packages\\h5py\\__init__.py:36: FutureWarning: Conversion of the second argument of issubdtype from `float` to `np.floating` is deprecated. In future, it will be treated as `np.float64 == np.dtype(float).type`.\n",
      "  from ._conv import register_converters as _register_converters\n",
      "Using TensorFlow backend.\n"
     ]
    }
   ],
   "source": [
    "from __future__ import print_function\n",
    "\n",
    "import numpy as np\n",
    "import matplotlib.pyplot as plt\n",
    "\n",
    "from keras.preprocessing import sequence\n",
    "from keras.models import Sequential\n",
    "from keras.layers import Dense, Embedding, Dropout\n",
    "from keras.layers import LSTM, Bidirectional\n",
    "\n",
    "from sklearn.model_selection import train_test_split\n",
    "\n",
    "from keras.datasets import imdb"
   ]
  },
  {
   "cell_type": "code",
   "execution_count": 2,
   "metadata": {},
   "outputs": [],
   "source": [
    "# Most frequent tokens, i.e., vocab size\n",
    "max_features = 5000\n",
    "\n",
    "# Words / tokens count in Sentence which is also the LSTM input's timesteps param\n",
    "sent_max_len = 100\n",
    "\n",
    "# Batches of setences to feed into neural net\n",
    "batch_size = 32\n",
    "\n",
    "# Word vector length, i.e., dimension of the dense embedding\n",
    "word_vec_len = 64\n",
    "\n",
    "# LSTM output size assuming we are using many as output which will be ultimately connected to dense layer to match up the label classes\n",
    "lstm_out_size = 64\n",
    "\n",
    "# NN training epochs\n",
    "n_epochs = 10"
   ]
  },
  {
   "cell_type": "code",
   "execution_count": 3,
   "metadata": {},
   "outputs": [
    {
     "name": "stdout",
     "output_type": "stream",
     "text": [
      "Loading data...\n",
      "25000 train sequences\n",
      "25000 test sequences\n"
     ]
    }
   ],
   "source": [
    "print('Loading data...')\n",
    "\n",
    "(x_train, y_train), (x_test, y_test) = imdb.load_data(num_words=max_features)\n",
    "print(len(x_train), 'train sequences')\n",
    "print(len(x_test), 'test sequences')"
   ]
  },
  {
   "cell_type": "code",
   "execution_count": 4,
   "metadata": {},
   "outputs": [
    {
     "name": "stdout",
     "output_type": "stream",
     "text": [
      "11 2494\n"
     ]
    }
   ],
   "source": [
    "mylen = np.vectorize(len)\n",
    "print(mylen(x_train).min(), mylen(x_train).max())"
   ]
  },
  {
   "cell_type": "code",
   "execution_count": 5,
   "metadata": {},
   "outputs": [
    {
     "data": {
      "image/png": "[encoded data removed]",
      "text/plain": [
       "<Figure size 432x288 with 1 Axes>"
      ]
     },
     "metadata": {},
     "output_type": "display_data"
    }
   ],
   "source": [
    "plt.hist(mylen(x_train), 200)\n",
    "plt.show()"
   ]
  },
  {
   "cell_type": "code",
   "execution_count": 6,
   "metadata": {},
   "outputs": [
    {
     "name": "stdout",
     "output_type": "stream",
     "text": [
      "20000 train sequences after train-validate split\n",
      "5000 validate sequences after train-validate split\n"
     ]
    }
   ],
   "source": [
    "x_train, x_validate, y_train, y_validate = train_test_split(x_train, y_train, test_size=0.2)\n",
    "print(len(x_train), 'train sequences after train-validate split')\n",
    "print(len(x_validate), 'validate sequences after train-validate split')"
   ]
  },
  {
   "cell_type": "code",
   "execution_count": 7,
   "metadata": {},
   "outputs": [
    {
     "name": "stdout",
     "output_type": "stream",
     "text": [
      "Pad sequences (samples x time)\n",
      "x_train shape: (20000, 100)\n",
      "x_validate shape: (5000, 100)\n",
      "x_test shape: (25000, 100)\n"
     ]
    }
   ],
   "source": [
    "# Trim long sentences or pad short ones\n",
    "# What is the implication of trimming lonnng setences to max_len\n",
    "\n",
    "print('Pad sequences (samples x time)')\n",
    "x_train = sequence.pad_sequences(x_train, maxlen=sent_max_len)\n",
    "x_validate = sequence.pad_sequences(x_validate, maxlen=sent_max_len)\n",
    "x_test = sequence.pad_sequences(x_test, maxlen=sent_max_len)\n",
    "\n",
    "print('x_train shape:', x_train.shape)\n",
    "print('x_validate shape:', x_validate.shape)\n",
    "print('x_test shape:', x_test.shape)"
   ]
  },
  {
   "cell_type": "code",
   "execution_count": 8,
   "metadata": {},
   "outputs": [
    {
     "data": {
      "text/plain": [
       "array([  10,    4,  489,    7,  458,    9,   55,  338,    5,   49, 1317,\n",
       "          5,    2,  139,   28,   77,  862, 2400,    6,  128,  167,  100,\n",
       "         28,   93,    6,  976,  921,  453,   46,    7,    4,  875,   10,\n",
       "         10,    4,  116,  421, 1639,  261,    2,    2,  839,   49,  113,\n",
       "         83,    4,  217,    4,  409,   71, 1053,   13,  210,  197,   15,\n",
       "          2,    2,   16,    6,   52,  524,   21,   41,  676,    9,   24,\n",
       "       3523,   11,   14,   22,    4,  915,  832,   71,    2, 1916,   10,\n",
       "         10,   11,  420,   25,   26,    6,  337,    7,  703,    5,  657,\n",
       "          8,   67,   53,    7,    4,  167,  789,  245,   39,   14,   31,\n",
       "        591])"
      ]
     },
     "execution_count": 8,
     "metadata": {},
     "output_type": "execute_result"
    }
   ],
   "source": [
    "x_train[0]"
   ]
  },
  {
   "cell_type": "code",
   "execution_count": 9,
   "metadata": {},
   "outputs": [
    {
     "name": "stdout",
     "output_type": "stream",
     "text": [
      "Build LSTM based network...\n",
      "_________________________________________________________________\n",
      "Layer (type)                 Output Shape              Param #   \n",
      "=================================================================\n",
      "embedding_1 (Embedding)      (None, None, 64)          320000    \n",
      "_________________________________________________________________\n",
      "lstm_1 (LSTM)                (None, 64)                33024     \n",
      "_________________________________________________________________\n",
      "dense_1 (Dense)              (None, 1)                 65        \n",
      "=================================================================\n",
      "Total params: 353,089\n",
      "Trainable params: 353,089\n",
      "Non-trainable params: 0\n",
      "_________________________________________________________________\n",
      "None\n"
     ]
    }
   ],
   "source": [
    "#'''\n",
    "print('Build LSTM based network...')\n",
    "\n",
    "model = Sequential()\n",
    "model.add(Embedding(input_dim=max_features, output_dim=word_vec_len))\n",
    "model.add(LSTM(units=lstm_out_size, input_shape=(sent_max_len, word_vec_len), dropout=0.2, recurrent_dropout=0.2))\n",
    "model.add(Dense(1, activation='sigmoid'))\n",
    "\n",
    "print(model.summary())\n",
    "#'''"
   ]
  },
  {
   "cell_type": "code",
   "execution_count": 10,
   "metadata": {},
   "outputs": [
    {
     "data": {
      "text/plain": [
       "\"\\nprint('Build bi-directional LSTM based network model...')\\n\\nmodel = Sequential()\\n\\n# input_length=sent_max_len\\nmodel.add(Embedding(input_dim=max_features, output_dim=word_vec_len))\\nmodel.add(Bidirectional(LSTM(units=lstm_out_size)))\\nmodel.add(Dropout(0.5))\\nmodel.add(Dense(1, activation='sigmoid'))\\n\\nprint(model.summary())\\n\""
      ]
     },
     "execution_count": 10,
     "metadata": {},
     "output_type": "execute_result"
    }
   ],
   "source": [
    "'''\n",
    "# Observe that Bi-di LSTM output size is 2*units, i.e., units output for usual left-2-right & another set of units for right-2-left\n",
    "# NOTE that both l2r & r2l are forward passes (don't confuse with backprop)\n",
    "\n",
    "print('Build bi-directional LSTM based network model...')\n",
    "\n",
    "model = Sequential()\n",
    "\n",
    "# input_length=sent_max_len\n",
    "model.add(Embedding(input_dim=max_features, output_dim=word_vec_len))\n",
    "model.add(Bidirectional(LSTM(units=lstm_out_size)))\n",
    "model.add(Dropout(0.5))\n",
    "model.add(Dense(1, activation='sigmoid'))\n",
    "\n",
    "print(model.summary())\n",
    "'''"
   ]
  },
  {
   "cell_type": "code",
   "execution_count": 11,
   "metadata": {},
   "outputs": [
    {
     "name": "stdout",
     "output_type": "stream",
     "text": [
      "Train...\n",
      "Train on 20000 samples, validate on 5000 samples\n",
      "Epoch 1/10\n",
      "20000/20000 [==============================] - 78s 4ms/step - loss: 0.4927 - acc: 0.7536 - val_loss: 0.4151 - val_acc: 0.8148\n",
      "Epoch 2/10\n",
      "20000/20000 [==============================] - 81s 4ms/step - loss: 0.3561 - acc: 0.8492 - val_loss: 0.4623 - val_acc: 0.7794\n",
      "Epoch 3/10\n",
      "20000/20000 [==============================] - 74s 4ms/step - loss: 0.3219 - acc: 0.8654 - val_loss: 0.4236 - val_acc: 0.8204\n",
      "Epoch 4/10\n",
      "20000/20000 [==============================] - 76s 4ms/step - loss: 0.2814 - acc: 0.8864 - val_loss: 0.3911 - val_acc: 0.8264\n",
      "Epoch 5/10\n",
      "20000/20000 [==============================] - 76s 4ms/step - loss: 0.2476 - acc: 0.9012 - val_loss: 0.4176 - val_acc: 0.8358\n",
      "Epoch 6/10\n",
      "20000/20000 [==============================] - 74s 4ms/step - loss: 0.2186 - acc: 0.9127 - val_loss: 0.4058 - val_acc: 0.8394\n",
      "Epoch 7/10\n",
      "20000/20000 [==============================] - 75s 4ms/step - loss: 0.1944 - acc: 0.9244 - val_loss: 0.4595 - val_acc: 0.8266\n",
      "Epoch 8/10\n",
      "20000/20000 [==============================] - 76s 4ms/step - loss: 0.1831 - acc: 0.9301 - val_loss: 0.4546 - val_acc: 0.8220\n",
      "Epoch 9/10\n",
      "20000/20000 [==============================] - 75s 4ms/step - loss: 0.1713 - acc: 0.9345 - val_loss: 0.4708 - val_acc: 0.8380\n",
      "Epoch 10/10\n",
      "20000/20000 [==============================] - 74s 4ms/step - loss: 0.1397 - acc: 0.9492 - val_loss: 0.5059 - val_acc: 0.8356\n"
     ]
    }
   ],
   "source": [
    "# try using different optimizers and different optimizer configs\n",
    "model.compile(loss='binary_crossentropy',\n",
    "              optimizer='adam',\n",
    "              metrics=['accuracy'])\n",
    "\n",
    "print('Train...')\n",
    "model_fitting_history = model.fit(x_train, y_train,\n",
    "          batch_size=batch_size,\n",
    "          epochs=n_epochs,\n",
    "          validation_data=(x_validate, y_validate))"
   ]
  },
  {
   "cell_type": "code",
   "execution_count": 12,
   "metadata": {},
   "outputs": [
    {
     "data": {
      "image/png": "[encoded data removed]",
      "text/plain": [
       "<Figure size 432x288 with 1 Axes>"
      ]
     },
     "metadata": {},
     "output_type": "display_data"
    },
    {
     "data": {
      "image/png": "[encoded data removed]",
      "text/plain": [
       "<Figure size 432x288 with 1 Axes>"
      ]
     },
     "metadata": {},
     "output_type": "display_data"
    }
   ],
   "source": [
    "plt.figure(1)\n",
    "plt.subplot(211)\n",
    "plt.plot(model_fitting_history.history['acc'])\n",
    "plt.plot(model_fitting_history.history['val_acc'])\n",
    "plt.title('model val_accuracy')\n",
    "plt.ylabel('validation accuracy')\n",
    "plt.xlabel('epoch')\n",
    "plt.legend(['train', 'validate'], loc='upper left')\n",
    "\n",
    "plt.figure(2)\n",
    "plt.subplot(212)\n",
    "plt.plot(model_fitting_history.history['loss'])\n",
    "plt.plot(model_fitting_history.history['val_loss'])\n",
    "plt.title('model val_loss')\n",
    "plt.ylabel('validation loss')\n",
    "plt.xlabel('epoch')\n",
    "plt.legend(['train', 'validate'], loc='upper left')\n",
    "\n",
    "plt.show()"
   ]
  },
  {
   "cell_type": "code",
   "execution_count": 13,
   "metadata": {},
   "outputs": [
    {
     "name": "stdout",
     "output_type": "stream",
     "text": [
      "25000/25000 [==============================] - 12s 500us/step\n",
      "Test score: 0.5135944603633881\n",
      "Test accuracy: 0.83104\n"
     ]
    }
   ],
   "source": [
    "score, acc = model.evaluate(x_test, y_test,\n",
    "                            batch_size=batch_size)\n",
    "print('Test score:', score)\n",
    "print('Test accuracy:', acc)"
   ]
  }
 ],
 "metadata": {
  "kernelspec": {
   "display_name": "Python 3",
   "language": "python",
   "name": "python3"
  },
  "language_info": {
   "codemirror_mode": {
    "name": "ipython",
    "version": 3
   },
   "file_extension": ".py",
   "mimetype": "text/x-python",
   "name": "python",
   "nbconvert_exporter": "python",
   "pygments_lexer": "ipython3",
   "version": "3.6.5"
  }
 },
 "nbformat": 4,
 "nbformat_minor": 2
}
