{
 "cells": [
  {
   "cell_type": "markdown",
   "id": "cubic-technique",
   "metadata": {},
   "source": [
    "### Peer-graded Assignment: Build a Regression Model in Keras\n",
    "\n",
    "Sunil Kumar"
   ]
  },
  {
   "cell_type": "code",
   "execution_count": 1,
   "id": "quiet-barrel",
   "metadata": {},
   "outputs": [
    {
     "name": "stderr",
     "output_type": "stream",
     "text": [
      "Using TensorFlow backend.\n"
     ]
    }
   ],
   "source": [
    "import pandas as pd\n",
    "import numpy as np\n",
    "\n",
    "import keras\n",
    "from keras.models import Sequential\n",
    "from keras.layers import Dense\n",
    "\n",
    "from sklearn.metrics import mean_squared_error\n",
    "from sklearn.preprocessing import StandardScaler"
   ]
  },
  {
   "cell_type": "code",
   "execution_count": 2,
   "id": "limited-ghost",
   "metadata": {},
   "outputs": [
    {
     "data": {
      "text/html": [
       "<div>\n",
       "<style scoped>\n",
       "    .dataframe tbody tr th:only-of-type {\n",
       "        vertical-align: middle;\n",
       "    }\n",
       "\n",
       "    .dataframe tbody tr th {\n",
       "        vertical-align: top;\n",
       "    }\n",
       "\n",
       "    .dataframe thead th {\n",
       "        text-align: right;\n",
       "    }\n",
       "</style>\n",
       "<table border=\"1\" class=\"dataframe\">\n",
       "  <thead>\n",
       "    <tr style=\"text-align: right;\">\n",
       "      <th></th>\n",
       "      <th>Cement</th>\n",
       "      <th>Blast Furnace Slag</th>\n",
       "      <th>Fly Ash</th>\n",
       "      <th>Water</th>\n",
       "      <th>Superplasticizer</th>\n",
       "      <th>Coarse Aggregate</th>\n",
       "      <th>Fine Aggregate</th>\n",
       "      <th>Age</th>\n",
       "      <th>Strength</th>\n",
       "    </tr>\n",
       "  </thead>\n",
       "  <tbody>\n",
       "    <tr>\n",
       "      <th>0</th>\n",
       "      <td>540.0</td>\n",
       "      <td>0.0</td>\n",
       "      <td>0.0</td>\n",
       "      <td>162.0</td>\n",
       "      <td>2.5</td>\n",
       "      <td>1040.0</td>\n",
       "      <td>676.0</td>\n",
       "      <td>28</td>\n",
       "      <td>79.99</td>\n",
       "    </tr>\n",
       "    <tr>\n",
       "      <th>1</th>\n",
       "      <td>540.0</td>\n",
       "      <td>0.0</td>\n",
       "      <td>0.0</td>\n",
       "      <td>162.0</td>\n",
       "      <td>2.5</td>\n",
       "      <td>1055.0</td>\n",
       "      <td>676.0</td>\n",
       "      <td>28</td>\n",
       "      <td>61.89</td>\n",
       "    </tr>\n",
       "    <tr>\n",
       "      <th>2</th>\n",
       "      <td>332.5</td>\n",
       "      <td>142.5</td>\n",
       "      <td>0.0</td>\n",
       "      <td>228.0</td>\n",
       "      <td>0.0</td>\n",
       "      <td>932.0</td>\n",
       "      <td>594.0</td>\n",
       "      <td>270</td>\n",
       "      <td>40.27</td>\n",
       "    </tr>\n",
       "    <tr>\n",
       "      <th>3</th>\n",
       "      <td>332.5</td>\n",
       "      <td>142.5</td>\n",
       "      <td>0.0</td>\n",
       "      <td>228.0</td>\n",
       "      <td>0.0</td>\n",
       "      <td>932.0</td>\n",
       "      <td>594.0</td>\n",
       "      <td>365</td>\n",
       "      <td>41.05</td>\n",
       "    </tr>\n",
       "    <tr>\n",
       "      <th>4</th>\n",
       "      <td>198.6</td>\n",
       "      <td>132.4</td>\n",
       "      <td>0.0</td>\n",
       "      <td>192.0</td>\n",
       "      <td>0.0</td>\n",
       "      <td>978.4</td>\n",
       "      <td>825.5</td>\n",
       "      <td>360</td>\n",
       "      <td>44.30</td>\n",
       "    </tr>\n",
       "  </tbody>\n",
       "</table>\n",
       "</div>"
      ],
      "text/plain": [
       "   Cement  Blast Furnace Slag  Fly Ash  Water  Superplasticizer  \\\n",
       "0   540.0                 0.0      0.0  162.0               2.5   \n",
       "1   540.0                 0.0      0.0  162.0               2.5   \n",
       "2   332.5               142.5      0.0  228.0               0.0   \n",
       "3   332.5               142.5      0.0  228.0               0.0   \n",
       "4   198.6               132.4      0.0  192.0               0.0   \n",
       "\n",
       "   Coarse Aggregate  Fine Aggregate  Age  Strength  \n",
       "0            1040.0           676.0   28     79.99  \n",
       "1            1055.0           676.0   28     61.89  \n",
       "2             932.0           594.0  270     40.27  \n",
       "3             932.0           594.0  365     41.05  \n",
       "4             978.4           825.5  360     44.30  "
      ]
     },
     "execution_count": 2,
     "metadata": {},
     "output_type": "execute_result"
    }
   ],
   "source": [
    "concrete_data = pd.read_csv('https://cocl.us/concrete_data')\n",
    "concrete_data.head()"
   ]
  },
  {
   "cell_type": "code",
   "execution_count": 3,
   "id": "divided-brand",
   "metadata": {},
   "outputs": [
    {
     "data": {
      "text/plain": [
       "(1030, 9)"
      ]
     },
     "execution_count": 3,
     "metadata": {},
     "output_type": "execute_result"
    }
   ],
   "source": [
    "concrete_data.shape"
   ]
  },
  {
   "cell_type": "code",
   "execution_count": 4,
   "id": "wooden-carter",
   "metadata": {},
   "outputs": [
    {
     "data": {
      "text/html": [
       "<div>\n",
       "<style scoped>\n",
       "    .dataframe tbody tr th:only-of-type {\n",
       "        vertical-align: middle;\n",
       "    }\n",
       "\n",
       "    .dataframe tbody tr th {\n",
       "        vertical-align: top;\n",
       "    }\n",
       "\n",
       "    .dataframe thead th {\n",
       "        text-align: right;\n",
       "    }\n",
       "</style>\n",
       "<table border=\"1\" class=\"dataframe\">\n",
       "  <thead>\n",
       "    <tr style=\"text-align: right;\">\n",
       "      <th></th>\n",
       "      <th>Cement</th>\n",
       "      <th>Blast Furnace Slag</th>\n",
       "      <th>Fly Ash</th>\n",
       "      <th>Water</th>\n",
       "      <th>Superplasticizer</th>\n",
       "      <th>Coarse Aggregate</th>\n",
       "      <th>Fine Aggregate</th>\n",
       "      <th>Age</th>\n",
       "      <th>Strength</th>\n",
       "    </tr>\n",
       "  </thead>\n",
       "  <tbody>\n",
       "    <tr>\n",
       "      <th>count</th>\n",
       "      <td>1030.000000</td>\n",
       "      <td>1030.000000</td>\n",
       "      <td>1030.000000</td>\n",
       "      <td>1030.000000</td>\n",
       "      <td>1030.000000</td>\n",
       "      <td>1030.000000</td>\n",
       "      <td>1030.000000</td>\n",
       "      <td>1030.000000</td>\n",
       "      <td>1030.000000</td>\n",
       "    </tr>\n",
       "    <tr>\n",
       "      <th>mean</th>\n",
       "      <td>281.167864</td>\n",
       "      <td>73.895825</td>\n",
       "      <td>54.188350</td>\n",
       "      <td>181.567282</td>\n",
       "      <td>6.204660</td>\n",
       "      <td>972.918932</td>\n",
       "      <td>773.580485</td>\n",
       "      <td>45.662136</td>\n",
       "      <td>35.817961</td>\n",
       "    </tr>\n",
       "    <tr>\n",
       "      <th>std</th>\n",
       "      <td>104.506364</td>\n",
       "      <td>86.279342</td>\n",
       "      <td>63.997004</td>\n",
       "      <td>21.354219</td>\n",
       "      <td>5.973841</td>\n",
       "      <td>77.753954</td>\n",
       "      <td>80.175980</td>\n",
       "      <td>63.169912</td>\n",
       "      <td>16.705742</td>\n",
       "    </tr>\n",
       "    <tr>\n",
       "      <th>min</th>\n",
       "      <td>102.000000</td>\n",
       "      <td>0.000000</td>\n",
       "      <td>0.000000</td>\n",
       "      <td>121.800000</td>\n",
       "      <td>0.000000</td>\n",
       "      <td>801.000000</td>\n",
       "      <td>594.000000</td>\n",
       "      <td>1.000000</td>\n",
       "      <td>2.330000</td>\n",
       "    </tr>\n",
       "    <tr>\n",
       "      <th>25%</th>\n",
       "      <td>192.375000</td>\n",
       "      <td>0.000000</td>\n",
       "      <td>0.000000</td>\n",
       "      <td>164.900000</td>\n",
       "      <td>0.000000</td>\n",
       "      <td>932.000000</td>\n",
       "      <td>730.950000</td>\n",
       "      <td>7.000000</td>\n",
       "      <td>23.710000</td>\n",
       "    </tr>\n",
       "    <tr>\n",
       "      <th>50%</th>\n",
       "      <td>272.900000</td>\n",
       "      <td>22.000000</td>\n",
       "      <td>0.000000</td>\n",
       "      <td>185.000000</td>\n",
       "      <td>6.400000</td>\n",
       "      <td>968.000000</td>\n",
       "      <td>779.500000</td>\n",
       "      <td>28.000000</td>\n",
       "      <td>34.445000</td>\n",
       "    </tr>\n",
       "    <tr>\n",
       "      <th>75%</th>\n",
       "      <td>350.000000</td>\n",
       "      <td>142.950000</td>\n",
       "      <td>118.300000</td>\n",
       "      <td>192.000000</td>\n",
       "      <td>10.200000</td>\n",
       "      <td>1029.400000</td>\n",
       "      <td>824.000000</td>\n",
       "      <td>56.000000</td>\n",
       "      <td>46.135000</td>\n",
       "    </tr>\n",
       "    <tr>\n",
       "      <th>max</th>\n",
       "      <td>540.000000</td>\n",
       "      <td>359.400000</td>\n",
       "      <td>200.100000</td>\n",
       "      <td>247.000000</td>\n",
       "      <td>32.200000</td>\n",
       "      <td>1145.000000</td>\n",
       "      <td>992.600000</td>\n",
       "      <td>365.000000</td>\n",
       "      <td>82.600000</td>\n",
       "    </tr>\n",
       "  </tbody>\n",
       "</table>\n",
       "</div>"
      ],
      "text/plain": [
       "            Cement  Blast Furnace Slag      Fly Ash        Water  \\\n",
       "count  1030.000000         1030.000000  1030.000000  1030.000000   \n",
       "mean    281.167864           73.895825    54.188350   181.567282   \n",
       "std     104.506364           86.279342    63.997004    21.354219   \n",
       "min     102.000000            0.000000     0.000000   121.800000   \n",
       "25%     192.375000            0.000000     0.000000   164.900000   \n",
       "50%     272.900000           22.000000     0.000000   185.000000   \n",
       "75%     350.000000          142.950000   118.300000   192.000000   \n",
       "max     540.000000          359.400000   200.100000   247.000000   \n",
       "\n",
       "       Superplasticizer  Coarse Aggregate  Fine Aggregate          Age  \\\n",
       "count       1030.000000       1030.000000     1030.000000  1030.000000   \n",
       "mean           6.204660        972.918932      773.580485    45.662136   \n",
       "std            5.973841         77.753954       80.175980    63.169912   \n",
       "min            0.000000        801.000000      594.000000     1.000000   \n",
       "25%            0.000000        932.000000      730.950000     7.000000   \n",
       "50%            6.400000        968.000000      779.500000    28.000000   \n",
       "75%           10.200000       1029.400000      824.000000    56.000000   \n",
       "max           32.200000       1145.000000      992.600000   365.000000   \n",
       "\n",
       "          Strength  \n",
       "count  1030.000000  \n",
       "mean     35.817961  \n",
       "std      16.705742  \n",
       "min       2.330000  \n",
       "25%      23.710000  \n",
       "50%      34.445000  \n",
       "75%      46.135000  \n",
       "max      82.600000  "
      ]
     },
     "execution_count": 4,
     "metadata": {},
     "output_type": "execute_result"
    }
   ],
   "source": [
    "concrete_data.describe()"
   ]
  },
  {
   "cell_type": "code",
   "execution_count": 5,
   "id": "spectacular-price",
   "metadata": {},
   "outputs": [
    {
     "data": {
      "text/plain": [
       "Cement                0\n",
       "Blast Furnace Slag    0\n",
       "Fly Ash               0\n",
       "Water                 0\n",
       "Superplasticizer      0\n",
       "Coarse Aggregate      0\n",
       "Fine Aggregate        0\n",
       "Age                   0\n",
       "Strength              0\n",
       "dtype: int64"
      ]
     },
     "execution_count": 5,
     "metadata": {},
     "output_type": "execute_result"
    }
   ],
   "source": [
    "concrete_data.isnull().sum()"
   ]
  },
  {
   "cell_type": "code",
   "execution_count": 6,
   "id": "opponent-mistress",
   "metadata": {},
   "outputs": [],
   "source": [
    "# Separate features and label\n",
    "\n",
    "concrete_data_columns = concrete_data.columns\n",
    "predictors = concrete_data[concrete_data_columns[concrete_data_columns != 'Strength']]\n",
    "target = concrete_data['Strength']"
   ]
  },
  {
   "cell_type": "code",
   "execution_count": 7,
   "id": "broke-quick",
   "metadata": {},
   "outputs": [
    {
     "data": {
      "text/html": [
       "<div>\n",
       "<style scoped>\n",
       "    .dataframe tbody tr th:only-of-type {\n",
       "        vertical-align: middle;\n",
       "    }\n",
       "\n",
       "    .dataframe tbody tr th {\n",
       "        vertical-align: top;\n",
       "    }\n",
       "\n",
       "    .dataframe thead th {\n",
       "        text-align: right;\n",
       "    }\n",
       "</style>\n",
       "<table border=\"1\" class=\"dataframe\">\n",
       "  <thead>\n",
       "    <tr style=\"text-align: right;\">\n",
       "      <th></th>\n",
       "      <th>Cement</th>\n",
       "      <th>Blast Furnace Slag</th>\n",
       "      <th>Fly Ash</th>\n",
       "      <th>Water</th>\n",
       "      <th>Superplasticizer</th>\n",
       "      <th>Coarse Aggregate</th>\n",
       "      <th>Fine Aggregate</th>\n",
       "      <th>Age</th>\n",
       "    </tr>\n",
       "  </thead>\n",
       "  <tbody>\n",
       "    <tr>\n",
       "      <th>0</th>\n",
       "      <td>540.0</td>\n",
       "      <td>0.0</td>\n",
       "      <td>0.0</td>\n",
       "      <td>162.0</td>\n",
       "      <td>2.5</td>\n",
       "      <td>1040.0</td>\n",
       "      <td>676.0</td>\n",
       "      <td>28</td>\n",
       "    </tr>\n",
       "    <tr>\n",
       "      <th>1</th>\n",
       "      <td>540.0</td>\n",
       "      <td>0.0</td>\n",
       "      <td>0.0</td>\n",
       "      <td>162.0</td>\n",
       "      <td>2.5</td>\n",
       "      <td>1055.0</td>\n",
       "      <td>676.0</td>\n",
       "      <td>28</td>\n",
       "    </tr>\n",
       "    <tr>\n",
       "      <th>2</th>\n",
       "      <td>332.5</td>\n",
       "      <td>142.5</td>\n",
       "      <td>0.0</td>\n",
       "      <td>228.0</td>\n",
       "      <td>0.0</td>\n",
       "      <td>932.0</td>\n",
       "      <td>594.0</td>\n",
       "      <td>270</td>\n",
       "    </tr>\n",
       "    <tr>\n",
       "      <th>3</th>\n",
       "      <td>332.5</td>\n",
       "      <td>142.5</td>\n",
       "      <td>0.0</td>\n",
       "      <td>228.0</td>\n",
       "      <td>0.0</td>\n",
       "      <td>932.0</td>\n",
       "      <td>594.0</td>\n",
       "      <td>365</td>\n",
       "    </tr>\n",
       "    <tr>\n",
       "      <th>4</th>\n",
       "      <td>198.6</td>\n",
       "      <td>132.4</td>\n",
       "      <td>0.0</td>\n",
       "      <td>192.0</td>\n",
       "      <td>0.0</td>\n",
       "      <td>978.4</td>\n",
       "      <td>825.5</td>\n",
       "      <td>360</td>\n",
       "    </tr>\n",
       "  </tbody>\n",
       "</table>\n",
       "</div>"
      ],
      "text/plain": [
       "   Cement  Blast Furnace Slag  Fly Ash  Water  Superplasticizer  \\\n",
       "0   540.0                 0.0      0.0  162.0               2.5   \n",
       "1   540.0                 0.0      0.0  162.0               2.5   \n",
       "2   332.5               142.5      0.0  228.0               0.0   \n",
       "3   332.5               142.5      0.0  228.0               0.0   \n",
       "4   198.6               132.4      0.0  192.0               0.0   \n",
       "\n",
       "   Coarse Aggregate  Fine Aggregate  Age  \n",
       "0            1040.0           676.0   28  \n",
       "1            1055.0           676.0   28  \n",
       "2             932.0           594.0  270  \n",
       "3             932.0           594.0  365  \n",
       "4             978.4           825.5  360  "
      ]
     },
     "execution_count": 7,
     "metadata": {},
     "output_type": "execute_result"
    }
   ],
   "source": [
    "predictors.head()"
   ]
  },
  {
   "cell_type": "code",
   "execution_count": 8,
   "id": "modified-friend",
   "metadata": {},
   "outputs": [
    {
     "data": {
      "text/plain": [
       "0    79.99\n",
       "1    61.89\n",
       "2    40.27\n",
       "3    41.05\n",
       "4    44.30\n",
       "Name: Strength, dtype: float64"
      ]
     },
     "execution_count": 8,
     "metadata": {},
     "output_type": "execute_result"
    }
   ],
   "source": [
    "target.head()"
   ]
  },
  {
   "cell_type": "code",
   "execution_count": 9,
   "id": "sunset-neighborhood",
   "metadata": {},
   "outputs": [
    {
     "data": {
      "text/plain": [
       "8"
      ]
     },
     "execution_count": 9,
     "metadata": {},
     "output_type": "execute_result"
    }
   ],
   "source": [
    "n_cols = predictors.shape[1] # number of predictors\n",
    "n_cols"
   ]
  },
  {
   "cell_type": "markdown",
   "id": "frequent-latitude",
   "metadata": {},
   "source": [
    "### Part A: Build a baseline model"
   ]
  },
  {
   "cell_type": "code",
   "execution_count": 10,
   "id": "featured-technical",
   "metadata": {},
   "outputs": [],
   "source": [
    "# define regression model\n",
    "\n",
    "def regression_model(num_cols, num_hidden_layers, num_nodes_per_layer):\n",
    "    # create model\n",
    "    model = Sequential()\n",
    "    \n",
    "    for i in range(num_hidden_layers):\n",
    "        model.add(Dense(num_nodes_per_layer, activation='relu', input_shape=(num_cols,)))\n",
    "    \n",
    "    # Regression model hence single dense output\n",
    "    model.add(Dense(1))\n",
    "    \n",
    "    # compile model\n",
    "    model.compile(optimizer='adam', loss='mean_squared_error')\n",
    "    return model"
   ]
  },
  {
   "cell_type": "code",
   "execution_count": 11,
   "id": "bibliographic-hamilton",
   "metadata": {},
   "outputs": [],
   "source": [
    "# holding out 30% as Test Data\n",
    "\n",
    "from sklearn.model_selection import train_test_split\n",
    "X_train, X_test, y_train, y_test = train_test_split(predictors, target, test_size=0.3, random_state=123)"
   ]
  },
  {
   "cell_type": "code",
   "execution_count": 12,
   "id": "engaging-government",
   "metadata": {},
   "outputs": [],
   "source": [
    "# build the model\n",
    "\n",
    "model = regression_model(num_cols=n_cols, num_hidden_layers=1, num_nodes_per_layer=10)"
   ]
  },
  {
   "cell_type": "code",
   "execution_count": 13,
   "id": "educated-impossible",
   "metadata": {},
   "outputs": [
    {
     "name": "stdout",
     "output_type": "stream",
     "text": [
      "Epoch 1/50\n",
      "721/721 [==============================] - 0s 591us/step - loss: 244499.9052\n",
      "Epoch 2/50\n",
      "721/721 [==============================] - 0s 49us/step - loss: 114067.4712\n",
      "Epoch 3/50\n",
      "721/721 [==============================] - 0s 49us/step - loss: 46947.8888\n",
      "Epoch 4/50\n",
      "721/721 [==============================] - 0s 48us/step - loss: 17606.4490\n",
      "Epoch 5/50\n",
      "721/721 [==============================] - 0s 46us/step - loss: 6840.7443\n",
      "Epoch 6/50\n",
      "721/721 [==============================] - 0s 47us/step - loss: 3796.1957\n",
      "Epoch 7/50\n",
      "721/721 [==============================] - 0s 48us/step - loss: 3107.9674\n",
      "Epoch 8/50\n",
      "721/721 [==============================] - 0s 46us/step - loss: 2886.0196\n",
      "Epoch 9/50\n",
      "721/721 [==============================] - 0s 45us/step - loss: 2732.1643\n",
      "Epoch 10/50\n",
      "721/721 [==============================] - 0s 47us/step - loss: 2594.4538\n",
      "Epoch 11/50\n",
      "721/721 [==============================] - 0s 45us/step - loss: 2455.2142\n",
      "Epoch 12/50\n",
      "721/721 [==============================] - 0s 47us/step - loss: 2326.6515\n",
      "Epoch 13/50\n",
      "721/721 [==============================] - 0s 47us/step - loss: 2203.3879\n",
      "Epoch 14/50\n",
      "721/721 [==============================] - 0s 47us/step - loss: 2083.8063\n",
      "Epoch 15/50\n",
      "721/721 [==============================] - 0s 47us/step - loss: 1972.5689\n",
      "Epoch 16/50\n",
      "721/721 [==============================] - 0s 44us/step - loss: 1871.4397\n",
      "Epoch 17/50\n",
      "721/721 [==============================] - 0s 49us/step - loss: 1770.8180\n",
      "Epoch 18/50\n",
      "721/721 [==============================] - 0s 48us/step - loss: 1679.4478\n",
      "Epoch 19/50\n",
      "721/721 [==============================] - 0s 47us/step - loss: 1594.5476\n",
      "Epoch 20/50\n",
      "721/721 [==============================] - 0s 48us/step - loss: 1513.8549\n",
      "Epoch 21/50\n",
      "721/721 [==============================] - 0s 47us/step - loss: 1440.5361\n",
      "Epoch 22/50\n",
      "721/721 [==============================] - 0s 49us/step - loss: 1372.2032\n",
      "Epoch 23/50\n",
      "721/721 [==============================] - 0s 49us/step - loss: 1307.3414\n",
      "Epoch 24/50\n",
      "721/721 [==============================] - 0s 48us/step - loss: 1248.8923\n",
      "Epoch 25/50\n",
      "721/721 [==============================] - 0s 47us/step - loss: 1192.4284\n",
      "Epoch 26/50\n",
      "721/721 [==============================] - 0s 47us/step - loss: 1140.0240\n",
      "Epoch 27/50\n",
      "721/721 [==============================] - 0s 47us/step - loss: 1088.0893\n",
      "Epoch 28/50\n",
      "721/721 [==============================] - 0s 46us/step - loss: 1041.4017\n",
      "Epoch 29/50\n",
      "721/721 [==============================] - 0s 48us/step - loss: 998.7846\n",
      "Epoch 30/50\n",
      "721/721 [==============================] - 0s 47us/step - loss: 959.3802\n",
      "Epoch 31/50\n",
      "721/721 [==============================] - 0s 45us/step - loss: 921.6088\n",
      "Epoch 32/50\n",
      "721/721 [==============================] - 0s 47us/step - loss: 886.9651\n",
      "Epoch 33/50\n",
      "721/721 [==============================] - 0s 47us/step - loss: 852.4833\n",
      "Epoch 34/50\n",
      "721/721 [==============================] - 0s 47us/step - loss: 821.0016\n",
      "Epoch 35/50\n",
      "721/721 [==============================] - 0s 47us/step - loss: 791.3811\n",
      "Epoch 36/50\n",
      "721/721 [==============================] - 0s 48us/step - loss: 763.6706\n",
      "Epoch 37/50\n",
      "721/721 [==============================] - 0s 53us/step - loss: 737.7395\n",
      "Epoch 38/50\n",
      "721/721 [==============================] - 0s 50us/step - loss: 714.4047\n",
      "Epoch 39/50\n",
      "721/721 [==============================] - 0s 47us/step - loss: 689.1086\n",
      "Epoch 40/50\n",
      "721/721 [==============================] - 0s 46us/step - loss: 669.3944\n",
      "Epoch 41/50\n",
      "721/721 [==============================] - 0s 46us/step - loss: 645.9782\n",
      "Epoch 42/50\n",
      "721/721 [==============================] - 0s 46us/step - loss: 626.3037\n",
      "Epoch 43/50\n",
      "721/721 [==============================] - 0s 46us/step - loss: 606.4653\n",
      "Epoch 44/50\n",
      "721/721 [==============================] - 0s 47us/step - loss: 588.3557\n",
      "Epoch 45/50\n",
      "721/721 [==============================] - 0s 46us/step - loss: 571.0487\n",
      "Epoch 46/50\n",
      "721/721 [==============================] - 0s 45us/step - loss: 554.5880\n",
      "Epoch 47/50\n",
      "721/721 [==============================] - 0s 47us/step - loss: 539.5254\n",
      "Epoch 48/50\n",
      "721/721 [==============================] - 0s 46us/step - loss: 524.3200\n",
      "Epoch 49/50\n",
      "721/721 [==============================] - 0s 47us/step - loss: 510.4307\n",
      "Epoch 50/50\n",
      "721/721 [==============================] - 0s 47us/step - loss: 495.8143\n"
     ]
    },
    {
     "data": {
      "text/plain": [
       "<keras.callbacks.callbacks.History at 0x7fd4dfca5f60>"
      ]
     },
     "execution_count": 13,
     "metadata": {},
     "output_type": "execute_result"
    }
   ],
   "source": [
    "# fit the model\n",
    "\n",
    "n_epochs_per_run = 50\n",
    "model.fit(X_train, y_train, epochs=n_epochs_per_run, verbose=1)"
   ]
  },
  {
   "cell_type": "code",
   "execution_count": 14,
   "id": "split-liability",
   "metadata": {},
   "outputs": [
    {
     "name": "stdout",
     "output_type": "stream",
     "text": [
      "309/309 [==============================] - 0s 179us/step\n"
     ]
    },
    {
     "data": {
      "text/plain": [
       "606.2232582067595"
      ]
     },
     "execution_count": 14,
     "metadata": {},
     "output_type": "execute_result"
    }
   ],
   "source": [
    "loss_val = model.evaluate(X_test, y_test)\n",
    "y_pred = model.predict(X_test)\n",
    "loss_val"
   ]
  },
  {
   "cell_type": "code",
   "execution_count": 15,
   "id": "floral-advocacy",
   "metadata": {},
   "outputs": [
    {
     "name": "stdout",
     "output_type": "stream",
     "text": [
      "606.2232234085872 0.0\n"
     ]
    }
   ],
   "source": [
    "# Note that keras.model.evaluate first performs inference and then returns loss\n",
    "# whereas sklearn.metrics.mean_squared_error calculates loss, i.e., MSE from y_test and y_pred\n",
    "\n",
    "mean_square_error = mean_squared_error(y_test, y_pred)\n",
    "mean = np.mean(mean_square_error)\n",
    "standard_deviation = np.std(mean_square_error)\n",
    "print(mean, standard_deviation)"
   ]
  },
  {
   "cell_type": "code",
   "execution_count": 16,
   "id": "cosmetic-positive",
   "metadata": {},
   "outputs": [],
   "source": [
    "# Repeating above steps for 50 times with different random_state and collecting mean_squared_error for those n_runs(=50)\n",
    "# for calculating statistics like their mean and std\n",
    "\n",
    "def runs(n_hidden_layers, n_runs, n_epochs_per_run, b_normalize):\n",
    "\n",
    "    if (b_normalize):\n",
    "        scaler = StandardScaler()\n",
    "        scaler.fit(predictors)\n",
    "        scaled_predictors = scaler.transform(predictors)\n",
    "        \n",
    "        features = scaled_predictors\n",
    "    else:\n",
    "        features = predictors\n",
    "        \n",
    "    arr_mse = []\n",
    "\n",
    "    for i in range(0, n_runs):\n",
    "        X_train, X_test, y_train, y_test = train_test_split(features, target, test_size=0.3, random_state=i)\n",
    "        \n",
    "        model = regression_model(num_cols=n_cols, num_hidden_layers=n_hidden_layers, num_nodes_per_layer=10)\n",
    "        model.fit(X_train, y_train, epochs=n_epochs_per_run, verbose=0)\n",
    "        \n",
    "        MSE = model.evaluate(X_test, y_test, verbose=0)\n",
    "        print(\"MSE \"+str(i+1)+\": \"+str(MSE))\n",
    "        \n",
    "        y_pred = model.predict(X_test)\n",
    "        mse = mean_squared_error(y_test, y_pred)\n",
    "        arr_mse.append(mse)\n",
    "        \n",
    "    return arr_mse"
   ]
  },
  {
   "cell_type": "code",
   "execution_count": 17,
   "id": "stock-sentence",
   "metadata": {},
   "outputs": [
    {
     "name": "stdout",
     "output_type": "stream",
     "text": [
      "MSE 1: 194.77113890416413\n",
      "MSE 2: 156.8473675181565\n",
      "MSE 3: 226.3806944418108\n",
      "MSE 4: 139.26883354310465\n",
      "MSE 5: 232.83871805629298\n",
      "MSE 6: 276.4496571562437\n",
      "MSE 7: 175.85427026841248\n",
      "MSE 8: 1800.9891649758545\n",
      "MSE 9: 1650.3062396497016\n",
      "MSE 10: 119.16358009511212\n",
      "MSE 11: 898.8919089110537\n",
      "MSE 12: 101.08242076886124\n",
      "MSE 13: 161.2501459708106\n",
      "MSE 14: 144.9435429742807\n",
      "MSE 15: 159.3310273303183\n",
      "MSE 16: 121.76697525468845\n",
      "MSE 17: 973.4312882407969\n",
      "MSE 18: 129.92230501144064\n",
      "MSE 19: 96.39030584934073\n",
      "MSE 20: 149.7094130037672\n",
      "MSE 21: 145.72998728335483\n",
      "MSE 22: 100.80963897705078\n",
      "MSE 23: 1682.855142044018\n",
      "MSE 24: 193.25873926156547\n",
      "MSE 25: 252.21605852738168\n",
      "MSE 26: 111.93870445671205\n",
      "MSE 27: 154.29350414090945\n",
      "MSE 28: 97.53471199208478\n",
      "MSE 29: 147.32488801332738\n",
      "MSE 30: 141.7029826833978\n",
      "MSE 31: 163.88400633975525\n",
      "MSE 32: 107.61612173037236\n",
      "MSE 33: 113.04127774037975\n",
      "MSE 34: 107.38080503099559\n",
      "MSE 35: 1004.8333033095671\n",
      "MSE 36: 1537.7106815078882\n",
      "MSE 37: 113.08593177178145\n",
      "MSE 38: 246.51707981936755\n",
      "MSE 39: 1874.291626371612\n",
      "MSE 40: 120.20064480482182\n",
      "MSE 41: 119.3828255983618\n",
      "MSE 42: 105.87823125845406\n",
      "MSE 43: 155.94809799441242\n",
      "MSE 44: 161.13396303244778\n",
      "MSE 45: 163.25005051696184\n",
      "MSE 46: 120.12050989144828\n",
      "MSE 47: 841.5626870559643\n",
      "MSE 48: 727.6785778057999\n",
      "MSE 49: 91.59462246694225\n",
      "MSE 50: 97.29870170914239\n"
     ]
    }
   ],
   "source": [
    "# MSE collection for 50 runs without normalizing predictors\n",
    "\n",
    "b_normalize = False\n",
    "n_hidden_layers = 1\n",
    "n_runs = 50\n",
    "n_epochs_per_run = 50\n",
    "\n",
    "mean_squared_errors = runs(n_hidden_layers=1, n_runs = 50, n_epochs_per_run = 50, b_normalize=False)"
   ]
  },
  {
   "cell_type": "code",
   "execution_count": 18,
   "id": "affecting-circular",
   "metadata": {},
   "outputs": [],
   "source": [
    "mean_squared_errors = np.array(mean_squared_errors)\n",
    "mean_part_A = np.mean(mean_squared_errors)\n",
    "std_part_A = np.std(mean_squared_errors)"
   ]
  },
  {
   "cell_type": "code",
   "execution_count": 19,
   "id": "incorrect-chester",
   "metadata": {},
   "outputs": [
    {
     "name": "stdout",
     "output_type": "stream",
     "text": [
      "\n",
      "\n",
      "Below is the mean and standard deviation of 50 mean squared errors Without NORMALIZED data. Total number of epochs for each training is: 50\n",
      "\n",
      "Mean: 378.19325989178077\n",
      "Standard Deviation: 499.76998725216083\n"
     ]
    }
   ],
   "source": [
    "print('\\n')\n",
    "print(\"Below is the mean and standard deviation of \" +str(n_runs) + \" mean squared errors Without NORMALIZED data. Total number of epochs for each training is: \" +str(n_epochs_per_run) + \"\\n\")\n",
    "print(\"Mean: \"+str(mean_part_A))\n",
    "print(\"Standard Deviation: \"+str(std_part_A))"
   ]
  },
  {
   "cell_type": "markdown",
   "id": "certified-productivity",
   "metadata": {},
   "source": [
    "### Part B: Normalize the data\n",
    "\n",
    "Repeat with normalized predictors to observe its impact on MSE distribution\n",
    "\n",
    "- b_normalize = True\n",
    "- n_hidden_layers = 1\n",
    "- n_runs = 50\n",
    "- n_epochs_per_run = 50"
   ]
  },
  {
   "cell_type": "code",
   "execution_count": 20,
   "id": "instrumental-mineral",
   "metadata": {},
   "outputs": [
    {
     "name": "stdout",
     "output_type": "stream",
     "text": [
      "MSE 1: 400.34149930392266\n",
      "MSE 2: 252.7275619753742\n",
      "MSE 3: 319.71435853038406\n",
      "MSE 4: 387.1545244235437\n",
      "MSE 5: 743.7958103414493\n",
      "MSE 6: 321.6747885892306\n",
      "MSE 7: 420.1060949035447\n",
      "MSE 8: 300.1391276634241\n",
      "MSE 9: 406.76376550174456\n",
      "MSE 10: 513.2528362582802\n",
      "MSE 11: 350.9046903443568\n",
      "MSE 12: 277.58218699828706\n",
      "MSE 13: 365.29121917428324\n",
      "MSE 14: 285.741848349957\n",
      "MSE 15: 260.7211440003034\n",
      "MSE 16: 262.14922769787245\n",
      "MSE 17: 335.3574611824307\n",
      "MSE 18: 339.8053766639487\n",
      "MSE 19: 267.19417495480633\n",
      "MSE 20: 340.6916143423531\n",
      "MSE 21: 467.31688593892216\n",
      "MSE 22: 249.70348755672913\n",
      "MSE 23: 384.62737740822206\n",
      "MSE 24: 585.5058836705476\n",
      "MSE 25: 239.63756563748356\n",
      "MSE 26: 267.8178252680016\n",
      "MSE 27: 416.11282249870425\n",
      "MSE 28: 474.64393689794446\n",
      "MSE 29: 352.65171552244516\n",
      "MSE 30: 499.60360016560475\n",
      "MSE 31: 328.7869485898311\n",
      "MSE 32: 342.8485553827872\n",
      "MSE 33: 283.2845369110601\n",
      "MSE 34: 254.76345795566596\n",
      "MSE 35: 393.21244382395327\n",
      "MSE 36: 291.1487361080824\n",
      "MSE 37: 243.76115797715664\n",
      "MSE 38: 343.66974681866594\n",
      "MSE 39: 303.5123157192588\n",
      "MSE 40: 335.18052401743273\n",
      "MSE 41: 597.729312835002\n",
      "MSE 42: 280.83058418347997\n",
      "MSE 43: 374.8505038659549\n",
      "MSE 44: 287.17211691847126\n",
      "MSE 45: 375.3476801504981\n",
      "MSE 46: 403.32997393067984\n",
      "MSE 47: 335.70718196140524\n",
      "MSE 48: 282.35319711629626\n",
      "MSE 49: 229.89105214733135\n",
      "MSE 50: 417.87322859779533\n"
     ]
    }
   ],
   "source": [
    "# MSE collection for 50 runs with normalized predictors\n",
    "\n",
    "b_normalize = True\n",
    "n_hidden_layers = 1\n",
    "n_runs = 50\n",
    "n_epochs_per_run = 50\n",
    "\n",
    "mean_squared_errors = runs(n_hidden_layers = 1, n_runs = 50, n_epochs_per_run = 50, b_normalize=True)"
   ]
  },
  {
   "cell_type": "code",
   "execution_count": 21,
   "id": "found-parcel",
   "metadata": {},
   "outputs": [],
   "source": [
    "mean_squared_errors = np.array(mean_squared_errors)\n",
    "mean_part_B = np.mean(mean_squared_errors)\n",
    "std_part_B = np.std(mean_squared_errors)"
   ]
  },
  {
   "cell_type": "code",
   "execution_count": 22,
   "id": "confirmed-transaction",
   "metadata": {},
   "outputs": [
    {
     "name": "stdout",
     "output_type": "stream",
     "text": [
      "\n",
      "\n",
      "Below is the mean and standard deviation of 50 mean squared errors With NORMALIZED data. Total number of EPOCHs for each training is: 50\n",
      "\n",
      "Mean: 355.87966920096244\n",
      "Standard Deviation: 101.10082621753818\n"
     ]
    }
   ],
   "source": [
    "print('\\n')\n",
    "print(\"Below is the mean and standard deviation of \" +str(n_runs) + \" mean squared errors With NORMALIZED data. Total number of EPOCHs for each training is: \" +str(n_epochs_per_run) + \"\\n\")\n",
    "print(\"Mean: \"+str(mean_part_B))\n",
    "print(\"Standard Deviation: \"+str(std_part_B))"
   ]
  },
  {
   "cell_type": "markdown",
   "id": "metric-jordan",
   "metadata": {},
   "source": [
    "### Part C: Increate the number of epochs\n",
    "\n",
    "Repeat Part B but with different n_epochs_per_run\n",
    "\n",
    "- n_epochs_per_run = 100\n",
    "- b_normalize=True\n",
    "- n_hidden_layers = 1\n",
    "- n_runs = 50"
   ]
  },
  {
   "cell_type": "code",
   "execution_count": 23,
   "id": "dress-newton",
   "metadata": {},
   "outputs": [
    {
     "name": "stdout",
     "output_type": "stream",
     "text": [
      "MSE 1: 139.50061445020162\n",
      "MSE 2: 173.39264281436462\n",
      "MSE 3: 146.45913923442558\n",
      "MSE 4: 165.0816273365206\n",
      "MSE 5: 187.10089363172216\n",
      "MSE 6: 153.73207981146655\n",
      "MSE 7: 199.84765990420837\n",
      "MSE 8: 138.54828483309947\n",
      "MSE 9: 149.95012479615443\n",
      "MSE 10: 147.90570418965856\n",
      "MSE 11: 147.33358181950345\n",
      "MSE 12: 153.676668383157\n",
      "MSE 13: 165.86825428194211\n",
      "MSE 14: 178.71621318928246\n",
      "MSE 15: 153.65037181076494\n",
      "MSE 16: 158.06725550778089\n",
      "MSE 17: 149.0666863895157\n",
      "MSE 18: 145.47058110406869\n",
      "MSE 19: 132.0863196116821\n",
      "MSE 20: 163.0028559119956\n",
      "MSE 21: 198.88939688969583\n",
      "MSE 22: 178.6841242521712\n",
      "MSE 23: 175.8825885069023\n",
      "MSE 24: 147.9147606266355\n",
      "MSE 25: 146.55641431098616\n",
      "MSE 26: 172.44110003721366\n",
      "MSE 27: 172.5675679919789\n",
      "MSE 28: 175.20241855263325\n",
      "MSE 29: 142.43653202982782\n",
      "MSE 30: 163.02901357508784\n",
      "MSE 31: 193.45434869068725\n",
      "MSE 32: 168.42349745617716\n",
      "MSE 33: 164.7636727638615\n",
      "MSE 34: 145.37342706081552\n",
      "MSE 35: 160.1519721565123\n",
      "MSE 36: 174.23407416976386\n",
      "MSE 37: 158.81984051454415\n",
      "MSE 38: 164.417891517812\n",
      "MSE 39: 176.80796162133078\n",
      "MSE 40: 169.283422624409\n",
      "MSE 41: 165.86574665551046\n",
      "MSE 42: 166.78483813634583\n",
      "MSE 43: 146.05432607903836\n",
      "MSE 44: 154.63006769569174\n",
      "MSE 45: 159.38040077184783\n",
      "MSE 46: 172.60989152729317\n",
      "MSE 47: 169.3598965147938\n",
      "MSE 48: 191.02780403211278\n",
      "MSE 49: 151.4437326968295\n",
      "MSE 50: 156.72622922631916\n"
     ]
    }
   ],
   "source": [
    "# MSE collection for 50 runs with normalized predictors and 100 epochs per run\n",
    "\n",
    "n_epochs_per_run = 100\n",
    "b_normalize = True\n",
    "n_hidden_layers = 1\n",
    "n_runs = 50\n",
    "\n",
    "mean_squared_errors = runs(n_hidden_layers = 1, n_runs = 50, n_epochs_per_run = 100, b_normalize=True)"
   ]
  },
  {
   "cell_type": "code",
   "execution_count": 24,
   "id": "informative-entrance",
   "metadata": {},
   "outputs": [],
   "source": [
    "mean_squared_errors = np.array(mean_squared_errors)\n",
    "mean_part_C = np.mean(mean_squared_errors)\n",
    "std_part_C = np.std(mean_squared_errors)"
   ]
  },
  {
   "cell_type": "code",
   "execution_count": 25,
   "id": "weird-postcard",
   "metadata": {},
   "outputs": [
    {
     "name": "stdout",
     "output_type": "stream",
     "text": [
      "\n",
      "\n",
      "Below is the mean and standard deviation of 50 mean squared errors With NORMALIZED data and 100 ECPOHS-per-run. Total number of EPOCHs for each training is: 100\n",
      "\n",
      "Mean: 162.63348958650758\n",
      "Standard Deviation: 15.618900908401677\n"
     ]
    }
   ],
   "source": [
    "print('\\n')\n",
    "print(\"Below is the mean and standard deviation of \" +str(n_runs) + \" mean squared errors With NORMALIZED data and 100 ECPOHS-per-run. Total number of EPOCHs for each training is: \" +str(n_epochs_per_run) + \"\\n\")\n",
    "print(\"Mean: \"+str(mean_part_C))\n",
    "print(\"Standard Deviation: \"+str(std_part_C))"
   ]
  },
  {
   "cell_type": "markdown",
   "id": "universal-bearing",
   "metadata": {},
   "source": [
    "### Part D: Increase the number of hidden layers\n",
    "\n",
    "Repeat Part B but with different n_hidden_layers\n",
    "- n_hidden_layers = 3\n",
    "- b_normalize=True\n",
    "- n_runs = 50\n",
    "- n_epochs_per_run = 50"
   ]
  },
  {
   "cell_type": "code",
   "execution_count": 26,
   "id": "separated-license",
   "metadata": {},
   "outputs": [
    {
     "name": "stdout",
     "output_type": "stream",
     "text": [
      "MSE 1: 129.32259961470817\n",
      "MSE 2: 154.71544669438333\n",
      "MSE 3: 129.06307850069211\n",
      "MSE 4: 130.90314873754014\n",
      "MSE 5: 149.59057093746839\n",
      "MSE 6: 130.6370480731853\n",
      "MSE 7: 155.60146620667098\n",
      "MSE 8: 125.46302775657678\n",
      "MSE 9: 138.86365141143304\n",
      "MSE 10: 121.7520180612706\n",
      "MSE 11: 103.69562263859129\n",
      "MSE 12: 128.277059215558\n",
      "MSE 13: 152.324533135374\n",
      "MSE 14: 83.81283396501757\n",
      "MSE 15: 142.28810672698285\n",
      "MSE 16: 131.4122463831238\n",
      "MSE 17: 123.86055987706848\n",
      "MSE 18: 100.9252964995054\n",
      "MSE 19: 87.15109524526257\n",
      "MSE 20: 128.03910249876745\n",
      "MSE 21: 117.76102632689245\n",
      "MSE 22: 126.29820794657982\n",
      "MSE 23: 128.92884298281376\n",
      "MSE 24: 132.63527076992787\n",
      "MSE 25: 124.10561235051325\n",
      "MSE 26: 130.84239300477853\n",
      "MSE 27: 119.50514532292931\n",
      "MSE 28: 114.07320149739583\n",
      "MSE 29: 139.19877491182493\n",
      "MSE 30: 133.95490795740417\n",
      "MSE 31: 172.72301673271895\n",
      "MSE 32: 126.26639617376729\n",
      "MSE 33: 102.84660635642635\n",
      "MSE 34: 94.50514502664214\n",
      "MSE 35: 127.29318884198334\n",
      "MSE 36: 130.8242756371359\n",
      "MSE 37: 127.22510476714199\n",
      "MSE 38: 141.70101859577267\n",
      "MSE 39: 139.84736801196843\n",
      "MSE 40: 142.42377726236978\n",
      "MSE 41: 139.2081045008786\n",
      "MSE 42: 140.06213798646402\n",
      "MSE 43: 103.09839035083561\n",
      "MSE 44: 138.40015779266852\n",
      "MSE 45: 141.91355614523286\n",
      "MSE 46: 143.48682509734022\n",
      "MSE 47: 130.18107824726783\n",
      "MSE 48: 136.88296953219813\n",
      "MSE 49: 124.19992509860437\n",
      "MSE 50: 114.92461365634955\n"
     ]
    }
   ],
   "source": [
    "# MSE collection for 50 runs with normalized predictors and 100 epochs per run\n",
    "\n",
    "n_hidden_layers = 3\n",
    "b_normalize = True\n",
    "n_runs = 50\n",
    "n_epochs_per_run = 50\n",
    "\n",
    "mean_squared_errors = runs(n_hidden_layers = 3, n_runs = 50, n_epochs_per_run = 50, b_normalize=True)"
   ]
  },
  {
   "cell_type": "code",
   "execution_count": 27,
   "id": "damaged-container",
   "metadata": {},
   "outputs": [],
   "source": [
    "mean_squared_errors = np.array(mean_squared_errors)\n",
    "mean_part_D = np.mean(mean_squared_errors)\n",
    "std_part_D = np.std(mean_squared_errors)"
   ]
  },
  {
   "cell_type": "code",
   "execution_count": 28,
   "id": "threatened-sucking",
   "metadata": {},
   "outputs": [
    {
     "name": "stdout",
     "output_type": "stream",
     "text": [
      "\n",
      "\n",
      "Below is the mean and standard deviation of 50 mean squared errors With NORMALIZED data and 100 ECPOHS-per-run. Total number of EPOCHs for each training is: 50\n",
      "\n",
      "Mean: 128.66030961844044\n",
      "Standard Deviation: 17.003748451837303\n"
     ]
    }
   ],
   "source": [
    "print('\\n')\n",
    "print(\"Below is the mean and standard deviation of \" +str(n_runs) + \" mean squared errors With NORMALIZED data and 100 ECPOHS-per-run. Total number of EPOCHs for each training is: \" +str(n_epochs_per_run) + \"\\n\")\n",
    "print(\"Mean: \"+str(mean_part_D))\n",
    "print(\"Standard Deviation: \"+str(std_part_D))"
   ]
  },
  {
   "cell_type": "markdown",
   "id": "working-spending",
   "metadata": {},
   "source": [
    "### Review of mean & std from part B, C and D"
   ]
  },
  {
   "cell_type": "code",
   "execution_count": 37,
   "id": "balanced-tolerance",
   "metadata": {},
   "outputs": [
    {
     "data": {
      "image/png": "[encoded data removed]",
      "text/plain": [
       "<Figure size 720x360 with 1 Axes>"
      ]
     },
     "metadata": {
      "needs_background": "light"
     },
     "output_type": "display_data"
    }
   ],
   "source": [
    "import matplotlib.pyplot as plt\n",
    "\n",
    "plt.figure(figsize=(10,5))\n",
    "ax = plt.axes()\n",
    "\n",
    "# line 1 points\n",
    "x = [1, 2, 3, 4]\n",
    "means = [mean_part_A, mean_part_B, mean_part_C, mean_part_D]\n",
    "ax.plot(x, means, label = \"means\")\n",
    "\n",
    "std_deviations = [std_part_A, std_part_B, std_part_C, std_part_D]\n",
    "ax.plot(x, std_deviations, label = \"std_deviations\")\n",
    "\n",
    "ax.set_xticks([1, 2, 3, 4])\n",
    "# ['A: Raw', 'B: Normalized', 'C: B + 100 epochs', 'D: B + 3 hidden layers']\n",
    "ax.set_xticklabels(['A: Raw', 'B: Normalized', 'C: B + 100 epochs', 'D: B + 3 hidden layers'])\n",
    "#ax.set_xticklabels('x - Part A, B, C and D')\n",
    "# Set the y axis label of the current axis.\n",
    "ax.set_ylabel('y - mean and std')\n",
    "# Set a title of the current axes.\n",
    "ax.set_title('Mean and STD for different attempts of normalization, epochs and runs')\n",
    "# show a legend on the plot\n",
    "plt.legend()\n",
    "# Display a figure.\n",
    "plt.show()"
   ]
  }
 ],
 "metadata": {
  "kernelspec": {
   "display_name": "conda_tensorflow2_p36",
   "language": "python",
   "name": "conda_tensorflow2_p36"
  },
  "language_info": {
   "codemirror_mode": {
    "name": "ipython",
    "version": 3
   },
   "file_extension": ".py",
   "mimetype": "text/x-python",
   "name": "python",
   "nbconvert_exporter": "python",
   "pygments_lexer": "ipython3",
   "version": "3.6.13"
  }
 },
 "nbformat": 4,
 "nbformat_minor": 5
}
