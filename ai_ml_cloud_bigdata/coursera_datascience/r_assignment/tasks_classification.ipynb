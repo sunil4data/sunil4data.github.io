{
 "cells": [
  {
   "cell_type": "code",
   "execution_count": 1,
   "metadata": {},
   "outputs": [
    {
     "name": "stderr",
     "output_type": "stream",
     "text": [
      "C:\\ProgramData\\Anaconda3\\lib\\site-packages\\gensim\\utils.py:1212: UserWarning: detected Windows; aliasing chunkize to chunkize_serial\n",
      "  warnings.warn(\"detected Windows; aliasing chunkize to chunkize_serial\")\n"
     ]
    },
    {
     "name": "stdout",
     "output_type": "stream",
     "text": [
      "[nltk_data] Downloading package punkt to\n",
      "[nltk_data]     C:\\Users\\sunil\\AppData\\Roaming\\nltk_data...\n",
      "[nltk_data]   Package punkt is already up-to-date!\n"
     ]
    }
   ],
   "source": [
    "import numpy as np\n",
    "import pandas as pd\n",
    "\n",
    "from gensim.models import KeyedVectors\n",
    "from gensim.parsing.preprocessing import preprocess_string, strip_tags, strip_punctuation, strip_multiple_whitespaces, strip_numeric, remove_stopwords, strip_short\n",
    "\n",
    "import nltk\n",
    "nltk.download('punkt')\n",
    "from nltk.tokenize import word_tokenize\n",
    "\n",
    "from tqdm import tqdm\n",
    "tqdm.pandas()\n",
    "\n",
    "from sklearn.model_selection import train_test_split\n",
    "from sklearn.feature_extraction.text import CountVectorizer\n",
    "from sklearn.feature_extraction.text import TfidfTransformer\n",
    "from sklearn.naive_bayes import MultinomialNB"
   ]
  },
  {
   "cell_type": "code",
   "execution_count": 2,
   "metadata": {},
   "outputs": [
    {
     "data": {
      "text/plain": [
       "array(['Assignment', 'Quiz', 'Homework', 'Test', 'Extra Credit'],\n",
       "      dtype=object)"
      ]
     },
     "execution_count": 2,
     "metadata": {},
     "output_type": "execute_result"
    }
   ],
   "source": [
    "df = pd.read_csv('akut.csv')\n",
    "df['Derived Generic Category'].unique()"
   ]
  },
  {
   "cell_type": "code",
   "execution_count": 3,
   "metadata": {},
   "outputs": [
    {
     "data": {
      "text/html": [
       "<div>\n",
       "<style scoped>\n",
       "    .dataframe tbody tr th:only-of-type {\n",
       "        vertical-align: middle;\n",
       "    }\n",
       "\n",
       "    .dataframe tbody tr th {\n",
       "        vertical-align: top;\n",
       "    }\n",
       "\n",
       "    .dataframe thead th {\n",
       "        text-align: right;\n",
       "    }\n",
       "</style>\n",
       "<table border=\"1\" class=\"dataframe\">\n",
       "  <thead>\n",
       "    <tr style=\"text-align: right;\">\n",
       "      <th></th>\n",
       "      <th>Teacher</th>\n",
       "      <th>School</th>\n",
       "      <th>Assignment Name</th>\n",
       "      <th>School Category</th>\n",
       "    </tr>\n",
       "    <tr>\n",
       "      <th>Derived Generic Category</th>\n",
       "      <th></th>\n",
       "      <th></th>\n",
       "      <th></th>\n",
       "      <th></th>\n",
       "    </tr>\n",
       "  </thead>\n",
       "  <tbody>\n",
       "    <tr>\n",
       "      <th>Assignment</th>\n",
       "      <td>605</td>\n",
       "      <td>605</td>\n",
       "      <td>605</td>\n",
       "      <td>605</td>\n",
       "    </tr>\n",
       "    <tr>\n",
       "      <th>Extra Credit</th>\n",
       "      <td>37</td>\n",
       "      <td>37</td>\n",
       "      <td>37</td>\n",
       "      <td>37</td>\n",
       "    </tr>\n",
       "    <tr>\n",
       "      <th>Homework</th>\n",
       "      <td>327</td>\n",
       "      <td>327</td>\n",
       "      <td>327</td>\n",
       "      <td>327</td>\n",
       "    </tr>\n",
       "    <tr>\n",
       "      <th>Quiz</th>\n",
       "      <td>145</td>\n",
       "      <td>145</td>\n",
       "      <td>145</td>\n",
       "      <td>145</td>\n",
       "    </tr>\n",
       "    <tr>\n",
       "      <th>Test</th>\n",
       "      <td>102</td>\n",
       "      <td>102</td>\n",
       "      <td>102</td>\n",
       "      <td>102</td>\n",
       "    </tr>\n",
       "  </tbody>\n",
       "</table>\n",
       "</div>"
      ],
      "text/plain": [
       "                          Teacher  School  Assignment Name  School Category\n",
       "Derived Generic Category                                                   \n",
       "Assignment                    605     605              605              605\n",
       "Extra Credit                   37      37               37               37\n",
       "Homework                      327     327              327              327\n",
       "Quiz                          145     145              145              145\n",
       "Test                          102     102              102              102"
      ]
     },
     "execution_count": 3,
     "metadata": {},
     "output_type": "execute_result"
    }
   ],
   "source": [
    "df.groupby(['Derived Generic Category']).count()"
   ]
  },
  {
   "cell_type": "code",
   "execution_count": 4,
   "metadata": {},
   "outputs": [],
   "source": [
    "txt_filters = [lambda x: x.lower(), strip_tags, strip_punctuation, strip_multiple_whitespaces, strip_numeric, remove_stopwords, strip_short]\n",
    "\n",
    "def process_input(row):\n",
    "    input_merged = row['Assignment Name'] + ' ' + row['School Category']\n",
    "    \n",
    "    # gensim's preprocess_string through series of txt_filters which generates tokens array\n",
    "    input_processed_tokens = \" \".join(preprocess_string(input_merged, txt_filters))\n",
    "    \n",
    "    # input_processed_tokens is deduplicated to form final input string\n",
    "    #input_processed = \" \".join(sorted(set(input_processed_tokens), key=input_processed_tokens.index))\n",
    "    return input_processed_tokens\n",
    "    \n",
    "df['processed_input'] = df.apply(lambda row: process_input(row), axis=1)"
   ]
  },
  {
   "cell_type": "code",
   "execution_count": 5,
   "metadata": {},
   "outputs": [
    {
     "data": {
      "text/plain": [
       "\"\\nsimple = 0\\ntxt_data = df['Assignment Name'] + ' ' + df['School Category']\\n\\nfor i in range(1, df.shape[0]):\\n    #print(df['Derived Generic Category'][i], txt_data[i])\\n    if df['Derived Generic Category'][i].lower() in txt_data[i].lower():\\n        simple += 1\\n    #else:\\n        #print(df['Derived Generic Category'][i], txt_data[i])\\n\\nprint(simple)\\n\""
      ]
     },
     "execution_count": 5,
     "metadata": {},
     "output_type": "execute_result"
    }
   ],
   "source": [
    "# Simple check to see as how many records have their LABEL present as-is in Assignment Text or School Category\n",
    "# 738 of 1216 are that simple\n",
    "'''\n",
    "simple = 0\n",
    "txt_data = df['Assignment Name'] + ' ' + df['School Category']\n",
    "\n",
    "for i in range(1, df.shape[0]):\n",
    "    #print(df['Derived Generic Category'][i], txt_data[i])\n",
    "    if df['Derived Generic Category'][i].lower() in txt_data[i].lower():\n",
    "        simple += 1\n",
    "    #else:\n",
    "        #print(df['Derived Generic Category'][i], txt_data[i])\n",
    "\n",
    "print(simple)\n",
    "'''"
   ]
  },
  {
   "cell_type": "code",
   "execution_count": 6,
   "metadata": {},
   "outputs": [],
   "source": [
    "# 0th index based 6th is this new 'label' column\n",
    "df['label'] = pd.factorize(df['Derived Generic Category'])[0]\n",
    "\n",
    "X_train, X_test, y_train, y_test = train_test_split(df['processed_input'], df['label'], test_size=0.1)\n",
    "count_vect = CountVectorizer()\n",
    "X_train_counts = count_vect.fit_transform(X_train)\n",
    "\n",
    "clf = MultinomialNB().fit(X_train_counts, y_train)\n",
    "# -vs-\n",
    "# 1188 correct out of 1216\n",
    "#tfidf_transformer = TfidfTransformer()\n",
    "#X_train_tfidf = count_vect.fit_transform(X_train_counts)\n",
    "#clf = MultinomialNB().fit(X_train_counts, y_train)"
   ]
  },
  {
   "cell_type": "code",
   "execution_count": 7,
   "metadata": {},
   "outputs": [],
   "source": [
    "predicted_label = clf.predict(count_vect.transform(df['processed_input']))"
   ]
  },
  {
   "cell_type": "code",
   "execution_count": 8,
   "metadata": {},
   "outputs": [
    {
     "name": "stdout",
     "output_type": "stream",
     "text": [
      "48 1 religions venn diagram worksheets 0\n",
      "70 1 major religion group projects group grade 0\n",
      "229 1 test tests quizzes 3\n",
      "731 2 caravana reading 0\n",
      "916 2 post movie prompt essays 0\n",
      "976 2 reading reading 0\n",
      "977 2 reading reading 0\n",
      "1011 2 september worksheet worksheets 0\n"
     ]
    }
   ],
   "source": [
    "for i in range(0, df.shape[0]):\n",
    "    if predicted_label[i] != df['label'][i]:\n",
    "        print(i, predicted_label[i], df['processed_input'][i], df['label'][i])"
   ]
  },
  {
   "cell_type": "code",
   "execution_count": 9,
   "metadata": {},
   "outputs": [
    {
     "data": {
      "text/plain": [
       "1208"
      ]
     },
     "execution_count": 9,
     "metadata": {},
     "output_type": "execute_result"
    }
   ],
   "source": [
    "score_truth = (predicted_label == df['label'].values)\n",
    "score_truth.sum()"
   ]
  }
 ],
 "metadata": {
  "kernelspec": {
   "display_name": "Python 3",
   "language": "python",
   "name": "python3"
  },
  "language_info": {
   "codemirror_mode": {
    "name": "ipython",
    "version": 3
   },
   "file_extension": ".py",
   "mimetype": "text/x-python",
   "name": "python",
   "nbconvert_exporter": "python",
   "pygments_lexer": "ipython3",
   "version": "3.6.5"
  }
 },
 "nbformat": 4,
 "nbformat_minor": 2
}
